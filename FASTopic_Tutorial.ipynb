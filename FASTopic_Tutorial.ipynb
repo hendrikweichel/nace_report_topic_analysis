{
  "cells": [
    {
      "cell_type": "markdown",
      "metadata": {
        "id": "tfUMqlIhQE17"
      },
      "source": [
        "# **Tutorial on FASTopic**\n",
        "\n",
        "Author: **[Xiaobao Wu](https://bobxwu.github.io/)**\n",
        "\n",
        "<br>\n",
        "\n",
        "![stars](https://img.shields.io/github/stars/bobxwu/FASTopic?logo=github)\n",
        "[![PyPI](https://img.shields.io/pypi/v/fastopic)](https://pypi.org/project/fastopic)\n",
        "[![Downloads](https://static.pepy.tech/badge/fastopic)](https://pepy.tech/project/fastopic)\n",
        "[![LICENSE](https://img.shields.io/github/license/bobxwu/fastopic)](https://www.apache.org/licenses/LICENSE-2.0/)\n",
        "[![arXiv](https://img.shields.io/badge/arXiv-2405.17978-<COLOR>.svg)](https://arxiv.org/pdf/2405.17978.pdf)\n",
        "[![Contributors](https://img.shields.io/github/contributors/bobxwu/fastopic)](https://github.com/bobxwu/fastopic/graphs/contributors/)\n",
        "\n",
        "\n",
        "FASTopic is a fast, adaptive, stable, and transferable topic model, different\n",
        "from the previous conventional (LDA), VAE-based (ProdLDA, ETM), or clustering-based (Top2Vec, BERTopic) methods.\n",
        "It leverages optimal transport between the document, topic, and word embeddings from pretrained Transformers to model topics and topic distributions of documents.\n",
        "\n",
        "Check our paper **[[NeurIPS 2024] FASTopic: Pretrained Transformer is a Fast, Adaptive, Stable, and Transferable Topic Model](https://arxiv.org/pdf/2405.17978.pdf)**  \n",
        "\n",
        "<br>\n",
        "\n",
        "<img src='https://github.com/BobXWu/FASTopic/raw/master/docs/img/illustration.svg' with='300pt'></img>\n"
      ]
    },
    {
      "cell_type": "markdown",
      "metadata": {
        "id": "rcnvYFpPQE2B"
      },
      "source": [
        "## Install FASTopic"
      ]
    },
    {
      "cell_type": "code",
      "execution_count": 1,
      "metadata": {
        "colab": {
          "base_uri": "https://localhost:8080/"
        },
        "id": "UQ3iQM0OQE2C",
        "outputId": "de3dd111-40ab-4d4f-be1d-d0811ea832c5"
      },
      "outputs": [
        {
          "name": "stdout",
          "output_type": "stream",
          "text": [
            "Requirement already satisfied: fastopic in /Users/hendrikweichel/miniconda3/envs/remedi/lib/python3.10/site-packages (1.0.1)\n",
            "Requirement already satisfied: topmost>=1.0.2 in /Users/hendrikweichel/miniconda3/envs/remedi/lib/python3.10/site-packages (from fastopic) (1.0.2)\n",
            "Requirement already satisfied: pandas>=2.2.0 in /Users/hendrikweichel/miniconda3/envs/remedi/lib/python3.10/site-packages (from topmost>=1.0.2->fastopic) (2.2.2)\n",
            "Requirement already satisfied: plotly>=6.0.0 in /Users/hendrikweichel/miniconda3/envs/remedi/lib/python3.10/site-packages (from topmost>=1.0.2->fastopic) (6.2.0)\n",
            "Requirement already satisfied: sentence-transformers>=3.4.0 in /Users/hendrikweichel/miniconda3/envs/remedi/lib/python3.10/site-packages (from topmost>=1.0.2->fastopic) (3.4.0)\n",
            "Requirement already satisfied: torchvision>=0.21.0 in /Users/hendrikweichel/miniconda3/envs/remedi/lib/python3.10/site-packages (from topmost>=1.0.2->fastopic) (0.22.1)\n",
            "Requirement already satisfied: gensim>=4.3.3 in /Users/hendrikweichel/miniconda3/envs/remedi/lib/python3.10/site-packages (from topmost>=1.0.2->fastopic) (4.3.3)\n",
            "Requirement already satisfied: scikit-learn>=1.6.1 in /Users/hendrikweichel/miniconda3/envs/remedi/lib/python3.10/site-packages (from topmost>=1.0.2->fastopic) (1.7.0)\n",
            "Requirement already satisfied: tqdm>=4.66.0 in /Users/hendrikweichel/miniconda3/envs/remedi/lib/python3.10/site-packages (from topmost>=1.0.2->fastopic) (4.66.4)\n",
            "Requirement already satisfied: numpy<2.0,>=1.18.5 in /Users/hendrikweichel/miniconda3/envs/remedi/lib/python3.10/site-packages (from gensim>=4.3.3->topmost>=1.0.2->fastopic) (1.26.4)\n",
            "Requirement already satisfied: scipy<1.14.0,>=1.7.0 in /Users/hendrikweichel/miniconda3/envs/remedi/lib/python3.10/site-packages (from gensim>=4.3.3->topmost>=1.0.2->fastopic) (1.12.0)\n",
            "Requirement already satisfied: smart-open>=1.8.1 in /Users/hendrikweichel/miniconda3/envs/remedi/lib/python3.10/site-packages (from gensim>=4.3.3->topmost>=1.0.2->fastopic) (7.1.0)\n",
            "Requirement already satisfied: python-dateutil>=2.8.2 in /Users/hendrikweichel/miniconda3/envs/remedi/lib/python3.10/site-packages (from pandas>=2.2.0->topmost>=1.0.2->fastopic) (2.9.0.post0)\n",
            "Requirement already satisfied: pytz>=2020.1 in /Users/hendrikweichel/miniconda3/envs/remedi/lib/python3.10/site-packages (from pandas>=2.2.0->topmost>=1.0.2->fastopic) (2024.1)\n",
            "Requirement already satisfied: tzdata>=2022.7 in /Users/hendrikweichel/miniconda3/envs/remedi/lib/python3.10/site-packages (from pandas>=2.2.0->topmost>=1.0.2->fastopic) (2024.1)\n",
            "Requirement already satisfied: narwhals>=1.15.1 in /Users/hendrikweichel/miniconda3/envs/remedi/lib/python3.10/site-packages (from plotly>=6.0.0->topmost>=1.0.2->fastopic) (1.45.0)\n",
            "Requirement already satisfied: packaging in /Users/hendrikweichel/miniconda3/envs/remedi/lib/python3.10/site-packages (from plotly>=6.0.0->topmost>=1.0.2->fastopic) (23.2)\n",
            "Requirement already satisfied: joblib>=1.2.0 in /Users/hendrikweichel/miniconda3/envs/remedi/lib/python3.10/site-packages (from scikit-learn>=1.6.1->topmost>=1.0.2->fastopic) (1.4.2)\n",
            "Requirement already satisfied: threadpoolctl>=3.1.0 in /Users/hendrikweichel/miniconda3/envs/remedi/lib/python3.10/site-packages (from scikit-learn>=1.6.1->topmost>=1.0.2->fastopic) (3.4.0)\n",
            "Requirement already satisfied: transformers<5.0.0,>=4.41.0 in /Users/hendrikweichel/miniconda3/envs/remedi/lib/python3.10/site-packages (from sentence-transformers>=3.4.0->topmost>=1.0.2->fastopic) (4.49.0)\n",
            "Requirement already satisfied: torch>=1.11.0 in /Users/hendrikweichel/miniconda3/envs/remedi/lib/python3.10/site-packages (from sentence-transformers>=3.4.0->topmost>=1.0.2->fastopic) (2.7.1)\n",
            "Requirement already satisfied: huggingface-hub>=0.20.0 in /Users/hendrikweichel/miniconda3/envs/remedi/lib/python3.10/site-packages (from sentence-transformers>=3.4.0->topmost>=1.0.2->fastopic) (0.27.1)\n",
            "Requirement already satisfied: Pillow in /Users/hendrikweichel/miniconda3/envs/remedi/lib/python3.10/site-packages (from sentence-transformers>=3.4.0->topmost>=1.0.2->fastopic) (11.0.0)\n",
            "Requirement already satisfied: filelock in /Users/hendrikweichel/miniconda3/envs/remedi/lib/python3.10/site-packages (from torch>=1.11.0->sentence-transformers>=3.4.0->topmost>=1.0.2->fastopic) (3.13.3)\n",
            "Requirement already satisfied: typing-extensions>=4.10.0 in /Users/hendrikweichel/miniconda3/envs/remedi/lib/python3.10/site-packages (from torch>=1.11.0->sentence-transformers>=3.4.0->topmost>=1.0.2->fastopic) (4.12.2)\n",
            "Requirement already satisfied: sympy>=1.13.3 in /Users/hendrikweichel/miniconda3/envs/remedi/lib/python3.10/site-packages (from torch>=1.11.0->sentence-transformers>=3.4.0->topmost>=1.0.2->fastopic) (1.14.0)\n",
            "Requirement already satisfied: networkx in /Users/hendrikweichel/miniconda3/envs/remedi/lib/python3.10/site-packages (from torch>=1.11.0->sentence-transformers>=3.4.0->topmost>=1.0.2->fastopic) (3.3)\n",
            "Requirement already satisfied: jinja2 in /Users/hendrikweichel/miniconda3/envs/remedi/lib/python3.10/site-packages (from torch>=1.11.0->sentence-transformers>=3.4.0->topmost>=1.0.2->fastopic) (3.1.3)\n",
            "Requirement already satisfied: fsspec in /Users/hendrikweichel/miniconda3/envs/remedi/lib/python3.10/site-packages (from torch>=1.11.0->sentence-transformers>=3.4.0->topmost>=1.0.2->fastopic) (2024.6.0)\n",
            "Requirement already satisfied: pyyaml>=5.1 in /Users/hendrikweichel/miniconda3/envs/remedi/lib/python3.10/site-packages (from huggingface-hub>=0.20.0->sentence-transformers>=3.4.0->topmost>=1.0.2->fastopic) (6.0.1)\n",
            "Requirement already satisfied: requests in /Users/hendrikweichel/miniconda3/envs/remedi/lib/python3.10/site-packages (from huggingface-hub>=0.20.0->sentence-transformers>=3.4.0->topmost>=1.0.2->fastopic) (2.32.3)\n",
            "Requirement already satisfied: six>=1.5 in /Users/hendrikweichel/miniconda3/envs/remedi/lib/python3.10/site-packages (from python-dateutil>=2.8.2->pandas>=2.2.0->topmost>=1.0.2->fastopic) (1.16.0)\n",
            "Requirement already satisfied: wrapt in /Users/hendrikweichel/miniconda3/envs/remedi/lib/python3.10/site-packages (from smart-open>=1.8.1->gensim>=4.3.3->topmost>=1.0.2->fastopic) (1.16.0)\n",
            "Requirement already satisfied: regex!=2019.12.17 in /Users/hendrikweichel/miniconda3/envs/remedi/lib/python3.10/site-packages (from transformers<5.0.0,>=4.41.0->sentence-transformers>=3.4.0->topmost>=1.0.2->fastopic) (2024.5.15)\n",
            "Requirement already satisfied: tokenizers<0.22,>=0.21 in /Users/hendrikweichel/miniconda3/envs/remedi/lib/python3.10/site-packages (from transformers<5.0.0,>=4.41.0->sentence-transformers>=3.4.0->topmost>=1.0.2->fastopic) (0.21.0)\n",
            "Requirement already satisfied: safetensors>=0.4.1 in /Users/hendrikweichel/miniconda3/envs/remedi/lib/python3.10/site-packages (from transformers<5.0.0,>=4.41.0->sentence-transformers>=3.4.0->topmost>=1.0.2->fastopic) (0.5.1)\n",
            "Requirement already satisfied: mpmath<1.4,>=1.1.0 in /Users/hendrikweichel/miniconda3/envs/remedi/lib/python3.10/site-packages (from sympy>=1.13.3->torch>=1.11.0->sentence-transformers>=3.4.0->topmost>=1.0.2->fastopic) (1.3.0)\n",
            "Requirement already satisfied: MarkupSafe>=2.0 in /Users/hendrikweichel/miniconda3/envs/remedi/lib/python3.10/site-packages (from jinja2->torch>=1.11.0->sentence-transformers>=3.4.0->topmost>=1.0.2->fastopic) (2.1.5)\n",
            "Requirement already satisfied: charset-normalizer<4,>=2 in /Users/hendrikweichel/miniconda3/envs/remedi/lib/python3.10/site-packages (from requests->huggingface-hub>=0.20.0->sentence-transformers>=3.4.0->topmost>=1.0.2->fastopic) (3.3.2)\n",
            "Requirement already satisfied: idna<4,>=2.5 in /Users/hendrikweichel/miniconda3/envs/remedi/lib/python3.10/site-packages (from requests->huggingface-hub>=0.20.0->sentence-transformers>=3.4.0->topmost>=1.0.2->fastopic) (3.7)\n",
            "Requirement already satisfied: urllib3<3,>=1.21.1 in /Users/hendrikweichel/miniconda3/envs/remedi/lib/python3.10/site-packages (from requests->huggingface-hub>=0.20.0->sentence-transformers>=3.4.0->topmost>=1.0.2->fastopic) (2.2.1)\n",
            "Requirement already satisfied: certifi>=2017.4.17 in /Users/hendrikweichel/miniconda3/envs/remedi/lib/python3.10/site-packages (from requests->huggingface-hub>=0.20.0->sentence-transformers>=3.4.0->topmost>=1.0.2->fastopic) (2024.6.2)\n"
          ]
        }
      ],
      "source": [
        "!pip install fastopic"
      ]
    },
    {
      "cell_type": "markdown",
      "metadata": {
        "id": "sLRyBC7BQE2F"
      },
      "source": [
        "## Download a dataset\n",
        "\n",
        "We download preprocessed dataset [NYT](https://github.com/BobXWu/TopMost/tree/main/data), news articles from New York Times."
      ]
    },
    {
      "cell_type": "code",
      "execution_count": 2,
      "metadata": {
        "colab": {
          "base_uri": "https://localhost:8080/"
        },
        "id": "SsK6nXyEQE2x",
        "outputId": "4561e741-2d64-4c10-b33c-7df2f13b8cfe"
      },
      "outputs": [
        {
          "name": "stderr",
          "output_type": "stream",
          "text": [
            "100%|██████████| 15.1M/15.1M [00:01<00:00, 10.3MB/s]\n"
          ]
        },
        {
          "name": "stdout",
          "output_type": "stream",
          "text": [
            "train size:  8254\n",
            "test size:  918\n",
            "vocab size:  10000\n",
            "average length: 175.429\n",
            "num of each time slice:  11 [ 194  265  431  554  744  837  802  884 1283 1400  860]\n"
          ]
        }
      ],
      "source": [
        "import topmost\n",
        "from topmost.data import download_dataset\n",
        "from fastopic import FASTopic\n",
        "\n",
        "download_dataset(\"NYT\", cache_path=\"./datasets\")\n",
        "dataset = topmost.data.DynamicDataset(\"./datasets/NYT\", as_tensor=False)\n",
        "docs = dataset.train_texts"
      ]
    },
    {
      "cell_type": "code",
      "execution_count": 4,
      "metadata": {},
      "outputs": [],
      "source": [
        "import pandas as pd\n",
        "import numpy as np\n",
        "import os\n",
        "import sys\n",
        "\n",
        "sys.path.append(\"/Users/hendrikweichel/projects/NaceCodeClassification/nace_remedi/Summarization_Classification/src\")\n",
        "\n",
        "from vector_search.Available_embedding_models import AvailableEmbeddingModels\n",
        "from vector_search import pypdf_extraction\n",
        "from vector_search import text_splitting\n",
        "from vector_search import filter_chunks"
      ]
    },
    {
      "cell_type": "code",
      "execution_count": 5,
      "metadata": {},
      "outputs": [],
      "source": [
        "pdf_path = \"/Users/hendrikweichel/projects/NaceCodeClassification/nace_remedi/Summarization_Classification/data/annual_reports/conti_annual-report-2023-data.pdf\"\n",
        "pdf_path = \"/Users/hendrikweichel/projects/NaceCodeClassification/nace_remedi/Summarization_Classification/data/annual_reports/mercedes-benz-annual-report-2023-incl-combined-management-report-mbg-ag-2.pdf\""
      ]
    },
    {
      "cell_type": "code",
      "execution_count": 6,
      "metadata": {},
      "outputs": [
        {
          "name": "stderr",
          "output_type": "stream",
          "text": [
            "Extracting text: 100%|██████████| 353/353 [00:06<00:00, 56.18it/s] \n"
          ]
        }
      ],
      "source": [
        "pages = pypdf_extraction.pypdf_extract(pdf_path=pdf_path)\n",
        "#pages = pypdf_extraction.pypdf_extract_sync(pdf_path=pdf_path)\n",
        "chunks = text_splitting.split_pages(pages, chunk_size=1000, chunk_overlap=40)"
      ]
    },
    {
      "cell_type": "code",
      "execution_count": 16,
      "metadata": {},
      "outputs": [],
      "source": [
        "docs = [chunk[\"text\"] for chunk in chunks]"
      ]
    },
    {
      "cell_type": "markdown",
      "metadata": {
        "id": "PDtxbKtYQE24"
      },
      "source": [
        "## Train FASTopic"
      ]
    },
    {
      "cell_type": "code",
      "execution_count": 17,
      "metadata": {
        "colab": {
          "base_uri": "https://localhost:8080/",
          "height": 1000,
          "referenced_widgets": [
            "67af1d98db294f418f9c0ad18eb51180",
            "e52887b240374d558f728c4e7393bc61",
            "8c7f9756b6e64ff4a6bb98cf965b27fb",
            "35520d194b7d419ba6c0f4fda43fa1c3",
            "822d27e053d44f6a88dd3f184a5e4627",
            "3f55bd5386fa4e9189d9b9b811695090",
            "5ded9d37a4f3446d830edf9e7f142c8c",
            "3327a46f390445e58df80b7c3966600c",
            "37ecc18e438b4517a3ac2a0dff499571",
            "fd3a5d754a634d44912349cc050f28ed",
            "6a735a4cccc1411cb2f3e255a1ac7ae9"
          ]
        },
        "id": "IiiImqSaQE24",
        "outputId": "66e73623-4ce7-46d1-8d28-a531528f9beb"
      },
      "outputs": [
        {
          "name": "stderr",
          "output_type": "stream",
          "text": [
            "2025-07-02 18:03:43,925 - FASTopic - use device: cpu\n",
            "2025-07-02 18:03:43,926 - FASTopic - First fit the model.\n",
            "loading train texts: 100%|██████████| 1347/1347 [00:00<00:00, 7499.59it/s]\n",
            "parsing texts: 100%|██████████| 1347/1347 [00:00<00:00, 16513.83it/s]\n",
            "/Users/hendrikweichel/miniconda3/envs/remedi/lib/python3.10/site-packages/sklearn/feature_extraction/text.py:517: UserWarning:\n",
            "\n",
            "The parameter 'token_pattern' will not be used since 'tokenizer' is not None'\n",
            "\n",
            "2025-07-02 18:03:45,733 - TopMost - Real vocab size: 8474\n",
            "2025-07-02 18:03:45,734 - TopMost - Real training size: 1347 \t avg length: 71.891\n"
          ]
        },
        {
          "data": {
            "application/vnd.jupyter.widget-view+json": {
              "model_id": "ae1d306a98304448a244421cec651fa0",
              "version_major": 2,
              "version_minor": 0
            },
            "text/plain": [
              "Batches:   0%|          | 0/43 [00:00<?, ?it/s]"
            ]
          },
          "metadata": {},
          "output_type": "display_data"
        },
        {
          "name": "stderr",
          "output_type": "stream",
          "text": [
            "Training FASTopic:   4%|▍         | 9/200 [00:01<00:30,  6.26it/s]2025-07-02 18:03:58,290 - FASTopic - Epoch: 010 loss: 649.498\n",
            "Training FASTopic:  10%|▉         | 19/200 [00:03<00:35,  5.12it/s]2025-07-02 18:04:00,177 - FASTopic - Epoch: 020 loss: 634.634\n",
            "Training FASTopic:  14%|█▍        | 29/200 [00:05<00:37,  4.58it/s]2025-07-02 18:04:02,336 - FASTopic - Epoch: 030 loss: 612.498\n",
            "Training FASTopic:  20%|█▉        | 39/200 [00:07<00:34,  4.68it/s]2025-07-02 18:04:04,524 - FASTopic - Epoch: 040 loss: 595.677\n",
            "Training FASTopic:  24%|██▍       | 49/200 [00:09<00:33,  4.52it/s]2025-07-02 18:04:06,734 - FASTopic - Epoch: 050 loss: 582.668\n",
            "Training FASTopic:  30%|██▉       | 59/200 [00:11<00:30,  4.55it/s]2025-07-02 18:04:08,946 - FASTopic - Epoch: 060 loss: 572.221\n",
            "Training FASTopic:  34%|███▍      | 69/200 [00:14<00:28,  4.54it/s]2025-07-02 18:04:11,140 - FASTopic - Epoch: 070 loss: 563.656\n",
            "Training FASTopic:  40%|███▉      | 79/200 [00:16<00:27,  4.46it/s]2025-07-02 18:04:13,346 - FASTopic - Epoch: 080 loss: 556.672\n",
            "Training FASTopic:  44%|████▍     | 89/200 [00:18<00:23,  4.63it/s]2025-07-02 18:04:15,519 - FASTopic - Epoch: 090 loss: 550.671\n",
            "Training FASTopic:  50%|████▉     | 99/200 [00:20<00:22,  4.44it/s]2025-07-02 18:04:17,729 - FASTopic - Epoch: 100 loss: 545.526\n",
            "Training FASTopic:  55%|█████▍    | 109/200 [00:22<00:19,  4.58it/s]2025-07-02 18:04:19,951 - FASTopic - Epoch: 110 loss: 540.952\n",
            "Training FASTopic:  60%|█████▉    | 119/200 [00:25<00:17,  4.51it/s]2025-07-02 18:04:22,140 - FASTopic - Epoch: 120 loss: 536.782\n",
            "Training FASTopic:  64%|██████▍   | 129/200 [00:27<00:19,  3.64it/s]2025-07-02 18:04:24,692 - FASTopic - Epoch: 130 loss: 533.154\n",
            "Training FASTopic:  70%|██████▉   | 139/200 [00:30<00:21,  2.89it/s]2025-07-02 18:04:28,042 - FASTopic - Epoch: 140 loss: 529.679\n",
            "Training FASTopic:  74%|███████▍  | 149/200 [00:34<00:17,  2.92it/s]2025-07-02 18:04:31,440 - FASTopic - Epoch: 150 loss: 526.439\n",
            "Training FASTopic:  80%|███████▉  | 159/200 [00:37<00:14,  2.91it/s]2025-07-02 18:04:34,889 - FASTopic - Epoch: 160 loss: 523.422\n",
            "Training FASTopic:  84%|████████▍ | 169/200 [00:41<00:10,  2.89it/s]2025-07-02 18:04:38,398 - FASTopic - Epoch: 170 loss: 520.573\n",
            "Training FASTopic:  90%|████████▉ | 179/200 [00:45<00:09,  2.19it/s]2025-07-02 18:04:42,557 - FASTopic - Epoch: 180 loss: 517.950\n",
            "Training FASTopic:  94%|█████████▍| 189/200 [00:50<00:05,  2.08it/s]2025-07-02 18:04:47,360 - FASTopic - Epoch: 190 loss: 515.358\n",
            "Training FASTopic: 100%|█████████▉| 199/200 [00:54<00:00,  2.06it/s]2025-07-02 18:04:52,154 - FASTopic - Epoch: 200 loss: 512.885\n",
            "Training FASTopic: 100%|██████████| 200/200 [00:55<00:00,  3.62it/s]\n"
          ]
        },
        {
          "name": "stdout",
          "output_type": "stream",
          "text": [
            "Topic 0: derivative hedges fair instruments nominal equivalents securities marketable derivatives hedge instrument amortized debt payables measured\n",
            "Topic 1: finan ate accounting disclosures cial obtained opinions material exists matters independent estimates refer presentation view\n",
            "Topic 2: bbac thbv saft imported dbrs flexibility opening vansmercedes purely suvs ldt brokerage minority sells rat\n",
            "Topic 3: footnotes wwweuroncapcom acquiring shift persistently emerging clarification showrooms dear ystems roll platformthe functionscorporate geospatial strikes\n",
            "Topic 4: private modular bevs want vanea upper eqt quickly citan positioning archi growthmercedes gamma continents anchored\n",
            "Topic 5: human training integrity employees managers culture principles social cms diversity rights work responsibility qualification working\n",
            "Topic 6: leveladjusted levelmercedes tracts levelresearch dollar nega levelrevenue covid penetration attribution remarketing unable adjusting verified unlike\n",
            "Topic 7: bpo violations corruption whistleblower persons oecd misconduct whistleblowers falls problem observe whistleblowing breach individuals terminate\n",
            "Topic 8: lives reversal indefinite periodic contribu finite depre allocable overheads ciation nally compensate recov depreciable ffects\n",
            "Topic 9: suppliers iso supplier diligence chains rss materials identify materi minimize qual preventative tation emas lists\n",
            "Topic 10: entity consolidation syndicated optimized ported exemption benchmarks responding plies regulating chap appraisal afore xbrl surpluses\n",
            "Topic 11: amg brand driving drive mbos sae brands entry offer maybach offers eqs suv pilot tailored\n",
            "Topic 12: buyback authorization subscription consent shares acquire treasury phantom bonds issue authorized resolved share dividend july\n",
            "Topic 13: days hyperinflation easing justed beps directive mature onwards attributed curtailments son eprel economies variance llcusd\n",
            "Topic 14: positionannual condensed diluted largest infrastruc lows buses categorylevel ltdthe sidiaries segmentsin equities tailpipe exp changerevenue\n",
            "Topic 15: ppsp achievement ros variable survivors anne veronica replaced generational bonus motors sons assumption consisting younger\n",
            "Topic 16: taxonomy activity aligned delegated dnsh eligible ccm environmentally circular expenditure criteria enabling adaptation mitigation objective\n",
            "Topic 17: electric charging waste energy goal neutral consumption network series transformation battery raw production vans cars\n",
            "Topic 18: kba investigation defend court federal regional orders merit administrative requested suspicion pub failure functionalities approvals\n",
            "Topic 19: joint mer cedes parties ventures agreement entities subsidiaries investors regulations associated agreements group party companies\n",
            "Topic 20: workers portal bargaining holiday regardless retired youth nationality identity religion worldview trainee freely discrimination ethnic\n",
            "Topic 21: impairment residual leases lease recoverable goodwill contracts leased useful payments contingent contract liability repurchase right\n",
            "Topic 22: loan credit default stage creditworthiness collateral impaired liquid guarantees allowances ratings lifetime irrevocable statistical probabilities\n",
            "Topic 23: sources water sites star tons scope slovenia starkom cugir starcam transmission doo proizvodnja trgovina maribor\n",
            "Topic 24: deferred tax pensions income refund expense taxes gains temporary current differences liabilities similar credits losses\n",
            "Topic 25: hedged hedging commodity relationship swaps underlying designated hedg renminbi ineffectiveness terminal gbp unhedged pound jpy\n",
            "Topic 26: paragraph esef documents electronic contained departments assurance rendering respects idw intentional unintentional error fee overseeing\n",
            "Topic 27: meetings officer advisory tasks deputy chief committees function brecht steering managementthe director video boardthe virtual\n",
            "Topic 28: male breached inmeetingsparticipation solid birth diversitygender experiencefinance competencies plantwith femaleyear figuresannual teamsustainability revenuesleadin headwinds pischetsriederchairman\n",
            "Topic 29: additions added disposals industrial ebit flow intangible adjustments cfbit calculated intra adjusted allocated sheet return\n",
            "Topic 30: und zusammengefasster lagebericht nichtfinanzieller konzernabschluss inhalt weitere unsere mit informationen statementsannual nformation statementscontents notes govern\n",
            "Topic 31: auditor aktg approved proposal subsection interim corporation preliminary appropriation committee profits meeting discussed pursuant stock\n",
            "Topic 32: open like aesthetics baden duct feedback students openness foster inclusive respectful lifelong les tolerance sonal\n",
            "Topic 33: pension opportunities risks plan factors medium benefit plans arise risk usd rates opportunity commitments currencies\n",
            "Topic 34: controls appropriateness organizational depart defining sourced upheaval grmc isms officers workplaces reactive protective constructively regulationsthe\n",
            "Topic 35: billion resulted million decreased lion amounted russia decrease expenses bil mainly refinancing outflow truck inflow\n",
            "Topic 36: declarationannual contents information governanceannual governance report shareholders combined corporate month trucks objec ongoingensure bound boardannual\n",
            "Topic 37: ted compiled donations compiles news exporting notch threatening denied futuresupervisory ticket incumbent companythe strategically remote\n",
            "Topic 38: listed women shareholder elected mandates election boards members shall quota supervisory board profile men participation\n",
            "Topic 39: experiences played fects nanotechnologies awarding sila ultimately islands decadeincrease variant drivingresearch changeresearch intensified recy pages\n",
            "Topic 40: diesel damages authorities emission claims antitrust actions dismissed plaintiffs consumer filed claim decision civil behaviour\n",
            "Topic 41: gmbh stuttgart usa llc wilmington kingdom germany beijing silver athlon arrow australia netherlands china ohg\n",
            "Topic 42: accuracy unaudited validation functionsas correlation tures extraneous quantification arti meantime threatened cate harbour managementrisk authoritiesany\n",
            "Topic 43: governmental litigation proceedings proceed ceedings reputation adverse suspend harm reliably cation inves liable punitive duly\n",
            "Topic 44: safety data health accident occupational road technical systems privacy accidents laundering occupants vision assist develops\n",
            "Topic 45: expertise martin roman timotheus koch olaf council ergun michael bernd knowledge experience ben beurden served\n",
            "Topic 46: slightly figure smart significantly europe unit pricing outlook electrified union prior growth chinese euro sales\n",
            "Topic 47: peters filled werner sari schaft object elke left dedicated simple thank argue objected audio leoni\n",
            "Topic 48: reali irrevo translations nada cerrado determinados merfina reta anota zuidlease illion ngent kidlington janu onciliation\n",
            "Topic 49: esg dialogue goals political stakeholders gsc conservation urban organizations chaired decarbonization initiatives sustainabil concrete constructive\n"
          ]
        }
      ],
      "source": [
        "model = FASTopic(num_topics=50, verbose=True)\n",
        "topic_top_words, doc_topic_dist = model.fit_transform(docs)"
      ]
    },
    {
      "cell_type": "markdown",
      "metadata": {
        "id": "mC_Yi1b0QE25"
      },
      "source": [
        "## Topic info\n",
        "\n",
        "We can get the top words and their probabilities of a topic."
      ]
    },
    {
      "cell_type": "code",
      "execution_count": 18,
      "metadata": {
        "colab": {
          "base_uri": "https://localhost:8080/"
        },
        "id": "79WCFK3CQE25",
        "outputId": "b67c506a-b2e7-41bb-b9a9-671d4af71e7f"
      },
      "outputs": [
        {
          "data": {
            "text/plain": [
              "(('declarationannual', 0.011193578),\n",
              " ('contents', 0.008970907),\n",
              " ('information', 0.008371554),\n",
              " ('governanceannual', 0.007466087),\n",
              " ('governance', 0.0074163196))"
            ]
          },
          "execution_count": 18,
          "metadata": {},
          "output_type": "execute_result"
        }
      ],
      "source": [
        "model.get_topic(topic_idx=36)"
      ]
    },
    {
      "cell_type": "markdown",
      "metadata": {
        "id": "vPs_861-QE25"
      },
      "source": [
        "## Visualize topic-word distributions"
      ]
    },
    {
      "cell_type": "code",
      "execution_count": 20,
      "metadata": {
        "colab": {
          "base_uri": "https://localhost:8080/",
          "height": 517
        },
        "id": "ZUg93EpzQE26",
        "outputId": "f7024cb3-d001-48d7-ea73-9ba86ea2edfe"
      },
      "outputs": [
        {
          "data": {
            "application/vnd.plotly.v1+json": {
              "config": {
                "plotlyServerURL": "https://plot.ly"
              },
              "data": [
                {
                  "marker": {
                    "color": "#D55E00"
                  },
                  "orientation": "h",
                  "type": "bar",
                  "x": {
                    "bdata": "+VU7PFxZOzyWWTs8sVs7PM9fOzw=",
                    "dtype": "f4"
                  },
                  "xaxis": "x",
                  "y": [
                    "konzernabschluss",
                    "nichtfinanzieller",
                    "lagebericht",
                    "zusammengefasster",
                    "und"
                  ],
                  "yaxis": "y"
                },
                {
                  "marker": {
                    "color": "#0072B2"
                  },
                  "orientation": "h",
                  "type": "bar",
                  "x": {
                    "bdata": "mQTzOxSm9DvYKAk8tvoSPEVlNzw=",
                    "dtype": "f4"
                  },
                  "xaxis": "x2",
                  "y": [
                    "governance",
                    "governanceannual",
                    "information",
                    "contents",
                    "declarationannual"
                  ],
                  "yaxis": "y2"
                },
                {
                  "marker": {
                    "color": "#CC79A7"
                  },
                  "orientation": "h",
                  "type": "bar",
                  "x": {
                    "bdata": "HSIlPKK9LDyrEC08FFAwPImHNzw=",
                    "dtype": "f4"
                  },
                  "xaxis": "x3",
                  "y": [
                    "managers",
                    "employees",
                    "integrity",
                    "training",
                    "human"
                  ],
                  "yaxis": "y3"
                },
                {
                  "marker": {
                    "color": "#E69F00"
                  },
                  "orientation": "h",
                  "type": "bar",
                  "x": {
                    "bdata": "AlELPP1iJjwoIS88RoAzPJ1TOTw=",
                    "dtype": "f4"
                  },
                  "xaxis": "x4",
                  "y": [
                    "nominal",
                    "instruments",
                    "fair",
                    "hedges",
                    "derivative"
                  ],
                  "yaxis": "y4"
                },
                {
                  "marker": {
                    "color": "#56B4E9"
                  },
                  "orientation": "h",
                  "type": "bar",
                  "x": {
                    "bdata": "X7MMPM9sEDxgXBU8skscPLASHTw=",
                    "dtype": "f4"
                  },
                  "xaxis": "x5",
                  "y": [
                    "ventures",
                    "parties",
                    "cedes",
                    "mer",
                    "joint"
                  ],
                  "yaxis": "y5"
                },
                {
                  "marker": {
                    "color": "#009E73"
                  },
                  "orientation": "h",
                  "type": "bar",
                  "x": {
                    "bdata": "Z04OPAJRFDwfOR48i2EePOQVOTw=",
                    "dtype": "f4"
                  },
                  "xaxis": "x6",
                  "y": [
                    "factors",
                    "plan",
                    "risks",
                    "opportunities",
                    "pension"
                  ],
                  "yaxis": "y6"
                },
                {
                  "marker": {
                    "color": "#F0E442"
                  },
                  "orientation": "h",
                  "type": "bar",
                  "x": {
                    "bdata": "FtUbPFDyGzzutR48pr4vPPFbMjw=",
                    "dtype": "f4"
                  },
                  "xaxis": "x7",
                  "y": [
                    "recoverable",
                    "lease",
                    "leases",
                    "residual",
                    "impairment"
                  ],
                  "yaxis": "y7"
                },
                {
                  "marker": {
                    "color": "#D55E00"
                  },
                  "orientation": "h",
                  "type": "bar",
                  "x": {
                    "bdata": "QYsiPGyPIjxavS08JhMyPMxLODw=",
                    "dtype": "f4"
                  },
                  "xaxis": "x8",
                  "y": [
                    "subsection",
                    "proposal",
                    "approved",
                    "aktg",
                    "auditor"
                  ],
                  "yaxis": "y8"
                },
                {
                  "marker": {
                    "color": "#0072B2"
                  },
                  "orientation": "h",
                  "type": "bar",
                  "x": {
                    "bdata": "syzWO4ve8zsNuP07x1EQPPTgEjw=",
                    "dtype": "f4"
                  },
                  "xaxis": "x9",
                  "y": [
                    "cial",
                    "disclosures",
                    "accounting",
                    "ate",
                    "finan"
                  ],
                  "yaxis": "y9"
                },
                {
                  "marker": {
                    "color": "#CC79A7"
                  },
                  "orientation": "h",
                  "type": "bar",
                  "x": {
                    "bdata": "14USPAV1GjwFlSA8LpozPC9uODw=",
                    "dtype": "f4"
                  },
                  "xaxis": "x10",
                  "y": [
                    "refund",
                    "income",
                    "pensions",
                    "tax",
                    "deferred"
                  ],
                  "yaxis": "y10"
                },
                {
                  "marker": {
                    "color": "#E69F00"
                  },
                  "orientation": "h",
                  "type": "bar",
                  "x": {
                    "bdata": "jUkFPAs9EjyMuxk8/xYnPJPkODw=",
                    "dtype": "f4"
                  },
                  "xaxis": "x11",
                  "y": [
                    "goal",
                    "energy",
                    "waste",
                    "charging",
                    "electric"
                  ],
                  "yaxis": "y11"
                },
                {
                  "marker": {
                    "color": "#56B4E9"
                  },
                  "orientation": "h",
                  "type": "bar",
                  "x": {
                    "bdata": "ujYUPOKBFTzhHyE8EL8jPFwnLzw=",
                    "dtype": "f4"
                  },
                  "xaxis": "x12",
                  "y": [
                    "mandates",
                    "elected",
                    "shareholder",
                    "women",
                    "listed"
                  ],
                  "yaxis": "y12"
                },
                {
                  "marker": {
                    "color": "#009E73"
                  },
                  "orientation": "h",
                  "type": "bar",
                  "x": {
                    "bdata": "gUYVPLR1GzzyCR08c2IqPO/dMzw=",
                    "dtype": "f4"
                  },
                  "xaxis": "x13",
                  "y": [
                    "europe",
                    "significantly",
                    "smart",
                    "figure",
                    "slightly"
                  ],
                  "yaxis": "y13"
                },
                {
                  "marker": {
                    "color": "#F0E442"
                  },
                  "orientation": "h",
                  "type": "bar",
                  "x": {
                    "bdata": "Ci0VPD2IGDw4ciU8HZspPFm+Lzw=",
                    "dtype": "f4"
                  },
                  "xaxis": "x14",
                  "y": [
                    "ebit",
                    "industrial",
                    "disposals",
                    "added",
                    "additions"
                  ],
                  "yaxis": "y14"
                },
                {
                  "marker": {
                    "color": "#D55E00"
                  },
                  "orientation": "h",
                  "type": "bar",
                  "x": {
                    "bdata": "nPshPDJ2JDzygSk8hwEvPJnmOjw=",
                    "dtype": "f4"
                  },
                  "xaxis": "x15",
                  "y": [
                    "lion",
                    "decreased",
                    "million",
                    "resulted",
                    "billion"
                  ],
                  "yaxis": "y15"
                },
                {
                  "marker": {
                    "color": "#0072B2"
                  },
                  "orientation": "h",
                  "type": "bar",
                  "x": {
                    "bdata": "HAUrPGMRKzx2mzU8tn43PE0WOTw=",
                    "dtype": "f4"
                  },
                  "xaxis": "x16",
                  "y": [
                    "wilmington",
                    "llc",
                    "usa",
                    "stuttgart",
                    "gmbh"
                  ],
                  "yaxis": "y16"
                },
                {
                  "marker": {
                    "color": "#CC79A7"
                  },
                  "orientation": "h",
                  "type": "bar",
                  "x": {
                    "bdata": "NNgkPKFIKTyGHS88Wno0PPedOjw=",
                    "dtype": "f4"
                  },
                  "xaxis": "x17",
                  "y": [
                    "dnsh",
                    "delegated",
                    "aligned",
                    "activity",
                    "taxonomy"
                  ],
                  "yaxis": "y17"
                },
                {
                  "marker": {
                    "color": "#E69F00"
                  },
                  "orientation": "h",
                  "type": "bar",
                  "x": {
                    "bdata": "lScAPIj7Bzxumyg835kpPG4hODw=",
                    "dtype": "f4"
                  },
                  "xaxis": "x18",
                  "y": [
                    "occupational",
                    "accident",
                    "health",
                    "data",
                    "safety"
                  ],
                  "yaxis": "y18"
                },
                {
                  "marker": {
                    "color": "#56B4E9"
                  },
                  "orientation": "h",
                  "type": "bar",
                  "x": {
                    "bdata": "Vc6vO8MOsDt7p7A7hQu4O+A4Bjw=",
                    "dtype": "f4"
                  },
                  "xaxis": "x19",
                  "y": [
                    "birth",
                    "solid",
                    "inmeetingsparticipation",
                    "breached",
                    "male"
                  ],
                  "yaxis": "y19"
                },
                {
                  "marker": {
                    "color": "#009E73"
                  },
                  "orientation": "h",
                  "type": "bar",
                  "x": {
                    "bdata": "p8mwOyhzsTu2ybE7bPeyO8tbwTs=",
                    "dtype": "f4"
                  },
                  "xaxis": "x20",
                  "y": [
                    "news",
                    "compiles",
                    "donations",
                    "compiled",
                    "ted"
                  ],
                  "yaxis": "y20"
                }
              ],
              "layout": {
                "annotations": [
                  {
                    "font": {
                      "size": 16
                    },
                    "showarrow": false,
                    "text": "Topic 30",
                    "x": 0.0875,
                    "xanchor": "center",
                    "xref": "paper",
                    "y": 1,
                    "yanchor": "bottom",
                    "yref": "paper"
                  },
                  {
                    "font": {
                      "size": 16
                    },
                    "showarrow": false,
                    "text": "Topic 36",
                    "x": 0.36250000000000004,
                    "xanchor": "center",
                    "xref": "paper",
                    "y": 1,
                    "yanchor": "bottom",
                    "yref": "paper"
                  },
                  {
                    "font": {
                      "size": 16
                    },
                    "showarrow": false,
                    "text": "Topic 5",
                    "x": 0.6375000000000001,
                    "xanchor": "center",
                    "xref": "paper",
                    "y": 1,
                    "yanchor": "bottom",
                    "yref": "paper"
                  },
                  {
                    "font": {
                      "size": 16
                    },
                    "showarrow": false,
                    "text": "Topic 0",
                    "x": 0.9125,
                    "xanchor": "center",
                    "xref": "paper",
                    "y": 1,
                    "yanchor": "bottom",
                    "yref": "paper"
                  },
                  {
                    "font": {
                      "size": 16
                    },
                    "showarrow": false,
                    "text": "Topic 19",
                    "x": 0.0875,
                    "xanchor": "center",
                    "xref": "paper",
                    "y": 0.78,
                    "yanchor": "bottom",
                    "yref": "paper"
                  },
                  {
                    "font": {
                      "size": 16
                    },
                    "showarrow": false,
                    "text": "Topic 33",
                    "x": 0.36250000000000004,
                    "xanchor": "center",
                    "xref": "paper",
                    "y": 0.78,
                    "yanchor": "bottom",
                    "yref": "paper"
                  },
                  {
                    "font": {
                      "size": 16
                    },
                    "showarrow": false,
                    "text": "Topic 21",
                    "x": 0.6375000000000001,
                    "xanchor": "center",
                    "xref": "paper",
                    "y": 0.78,
                    "yanchor": "bottom",
                    "yref": "paper"
                  },
                  {
                    "font": {
                      "size": 16
                    },
                    "showarrow": false,
                    "text": "Topic 31",
                    "x": 0.9125,
                    "xanchor": "center",
                    "xref": "paper",
                    "y": 0.78,
                    "yanchor": "bottom",
                    "yref": "paper"
                  },
                  {
                    "font": {
                      "size": 16
                    },
                    "showarrow": false,
                    "text": "Topic 1",
                    "x": 0.0875,
                    "xanchor": "center",
                    "xref": "paper",
                    "y": 0.56,
                    "yanchor": "bottom",
                    "yref": "paper"
                  },
                  {
                    "font": {
                      "size": 16
                    },
                    "showarrow": false,
                    "text": "Topic 24",
                    "x": 0.36250000000000004,
                    "xanchor": "center",
                    "xref": "paper",
                    "y": 0.56,
                    "yanchor": "bottom",
                    "yref": "paper"
                  },
                  {
                    "font": {
                      "size": 16
                    },
                    "showarrow": false,
                    "text": "Topic 17",
                    "x": 0.6375000000000001,
                    "xanchor": "center",
                    "xref": "paper",
                    "y": 0.56,
                    "yanchor": "bottom",
                    "yref": "paper"
                  },
                  {
                    "font": {
                      "size": 16
                    },
                    "showarrow": false,
                    "text": "Topic 38",
                    "x": 0.9125,
                    "xanchor": "center",
                    "xref": "paper",
                    "y": 0.56,
                    "yanchor": "bottom",
                    "yref": "paper"
                  },
                  {
                    "font": {
                      "size": 16
                    },
                    "showarrow": false,
                    "text": "Topic 46",
                    "x": 0.0875,
                    "xanchor": "center",
                    "xref": "paper",
                    "y": 0.33999999999999997,
                    "yanchor": "bottom",
                    "yref": "paper"
                  },
                  {
                    "font": {
                      "size": 16
                    },
                    "showarrow": false,
                    "text": "Topic 29",
                    "x": 0.36250000000000004,
                    "xanchor": "center",
                    "xref": "paper",
                    "y": 0.33999999999999997,
                    "yanchor": "bottom",
                    "yref": "paper"
                  },
                  {
                    "font": {
                      "size": 16
                    },
                    "showarrow": false,
                    "text": "Topic 35",
                    "x": 0.6375000000000001,
                    "xanchor": "center",
                    "xref": "paper",
                    "y": 0.33999999999999997,
                    "yanchor": "bottom",
                    "yref": "paper"
                  },
                  {
                    "font": {
                      "size": 16
                    },
                    "showarrow": false,
                    "text": "Topic 41",
                    "x": 0.9125,
                    "xanchor": "center",
                    "xref": "paper",
                    "y": 0.33999999999999997,
                    "yanchor": "bottom",
                    "yref": "paper"
                  },
                  {
                    "font": {
                      "size": 16
                    },
                    "showarrow": false,
                    "text": "Topic 16",
                    "x": 0.0875,
                    "xanchor": "center",
                    "xref": "paper",
                    "y": 0.12,
                    "yanchor": "bottom",
                    "yref": "paper"
                  },
                  {
                    "font": {
                      "size": 16
                    },
                    "showarrow": false,
                    "text": "Topic 44",
                    "x": 0.36250000000000004,
                    "xanchor": "center",
                    "xref": "paper",
                    "y": 0.12,
                    "yanchor": "bottom",
                    "yref": "paper"
                  },
                  {
                    "font": {
                      "size": 16
                    },
                    "showarrow": false,
                    "text": "Topic 28",
                    "x": 0.6375000000000001,
                    "xanchor": "center",
                    "xref": "paper",
                    "y": 0.12,
                    "yanchor": "bottom",
                    "yref": "paper"
                  },
                  {
                    "font": {
                      "size": 16
                    },
                    "showarrow": false,
                    "text": "Topic 37",
                    "x": 0.9125,
                    "xanchor": "center",
                    "xref": "paper",
                    "y": 0.12,
                    "yanchor": "bottom",
                    "yref": "paper"
                  }
                ],
                "height": 1250,
                "hoverlabel": {
                  "bgcolor": "white",
                  "font": {
                    "family": "Rockwell",
                    "size": 16
                  }
                },
                "showlegend": false,
                "template": {
                  "data": {
                    "bar": [
                      {
                        "error_x": {
                          "color": "#2a3f5f"
                        },
                        "error_y": {
                          "color": "#2a3f5f"
                        },
                        "marker": {
                          "line": {
                            "color": "white",
                            "width": 0.5
                          },
                          "pattern": {
                            "fillmode": "overlay",
                            "size": 10,
                            "solidity": 0.2
                          }
                        },
                        "type": "bar"
                      }
                    ],
                    "barpolar": [
                      {
                        "marker": {
                          "line": {
                            "color": "white",
                            "width": 0.5
                          },
                          "pattern": {
                            "fillmode": "overlay",
                            "size": 10,
                            "solidity": 0.2
                          }
                        },
                        "type": "barpolar"
                      }
                    ],
                    "carpet": [
                      {
                        "aaxis": {
                          "endlinecolor": "#2a3f5f",
                          "gridcolor": "#C8D4E3",
                          "linecolor": "#C8D4E3",
                          "minorgridcolor": "#C8D4E3",
                          "startlinecolor": "#2a3f5f"
                        },
                        "baxis": {
                          "endlinecolor": "#2a3f5f",
                          "gridcolor": "#C8D4E3",
                          "linecolor": "#C8D4E3",
                          "minorgridcolor": "#C8D4E3",
                          "startlinecolor": "#2a3f5f"
                        },
                        "type": "carpet"
                      }
                    ],
                    "choropleth": [
                      {
                        "colorbar": {
                          "outlinewidth": 0,
                          "ticks": ""
                        },
                        "type": "choropleth"
                      }
                    ],
                    "contour": [
                      {
                        "colorbar": {
                          "outlinewidth": 0,
                          "ticks": ""
                        },
                        "colorscale": [
                          [
                            0,
                            "#0d0887"
                          ],
                          [
                            0.1111111111111111,
                            "#46039f"
                          ],
                          [
                            0.2222222222222222,
                            "#7201a8"
                          ],
                          [
                            0.3333333333333333,
                            "#9c179e"
                          ],
                          [
                            0.4444444444444444,
                            "#bd3786"
                          ],
                          [
                            0.5555555555555556,
                            "#d8576b"
                          ],
                          [
                            0.6666666666666666,
                            "#ed7953"
                          ],
                          [
                            0.7777777777777778,
                            "#fb9f3a"
                          ],
                          [
                            0.8888888888888888,
                            "#fdca26"
                          ],
                          [
                            1,
                            "#f0f921"
                          ]
                        ],
                        "type": "contour"
                      }
                    ],
                    "contourcarpet": [
                      {
                        "colorbar": {
                          "outlinewidth": 0,
                          "ticks": ""
                        },
                        "type": "contourcarpet"
                      }
                    ],
                    "heatmap": [
                      {
                        "colorbar": {
                          "outlinewidth": 0,
                          "ticks": ""
                        },
                        "colorscale": [
                          [
                            0,
                            "#0d0887"
                          ],
                          [
                            0.1111111111111111,
                            "#46039f"
                          ],
                          [
                            0.2222222222222222,
                            "#7201a8"
                          ],
                          [
                            0.3333333333333333,
                            "#9c179e"
                          ],
                          [
                            0.4444444444444444,
                            "#bd3786"
                          ],
                          [
                            0.5555555555555556,
                            "#d8576b"
                          ],
                          [
                            0.6666666666666666,
                            "#ed7953"
                          ],
                          [
                            0.7777777777777778,
                            "#fb9f3a"
                          ],
                          [
                            0.8888888888888888,
                            "#fdca26"
                          ],
                          [
                            1,
                            "#f0f921"
                          ]
                        ],
                        "type": "heatmap"
                      }
                    ],
                    "histogram": [
                      {
                        "marker": {
                          "pattern": {
                            "fillmode": "overlay",
                            "size": 10,
                            "solidity": 0.2
                          }
                        },
                        "type": "histogram"
                      }
                    ],
                    "histogram2d": [
                      {
                        "colorbar": {
                          "outlinewidth": 0,
                          "ticks": ""
                        },
                        "colorscale": [
                          [
                            0,
                            "#0d0887"
                          ],
                          [
                            0.1111111111111111,
                            "#46039f"
                          ],
                          [
                            0.2222222222222222,
                            "#7201a8"
                          ],
                          [
                            0.3333333333333333,
                            "#9c179e"
                          ],
                          [
                            0.4444444444444444,
                            "#bd3786"
                          ],
                          [
                            0.5555555555555556,
                            "#d8576b"
                          ],
                          [
                            0.6666666666666666,
                            "#ed7953"
                          ],
                          [
                            0.7777777777777778,
                            "#fb9f3a"
                          ],
                          [
                            0.8888888888888888,
                            "#fdca26"
                          ],
                          [
                            1,
                            "#f0f921"
                          ]
                        ],
                        "type": "histogram2d"
                      }
                    ],
                    "histogram2dcontour": [
                      {
                        "colorbar": {
                          "outlinewidth": 0,
                          "ticks": ""
                        },
                        "colorscale": [
                          [
                            0,
                            "#0d0887"
                          ],
                          [
                            0.1111111111111111,
                            "#46039f"
                          ],
                          [
                            0.2222222222222222,
                            "#7201a8"
                          ],
                          [
                            0.3333333333333333,
                            "#9c179e"
                          ],
                          [
                            0.4444444444444444,
                            "#bd3786"
                          ],
                          [
                            0.5555555555555556,
                            "#d8576b"
                          ],
                          [
                            0.6666666666666666,
                            "#ed7953"
                          ],
                          [
                            0.7777777777777778,
                            "#fb9f3a"
                          ],
                          [
                            0.8888888888888888,
                            "#fdca26"
                          ],
                          [
                            1,
                            "#f0f921"
                          ]
                        ],
                        "type": "histogram2dcontour"
                      }
                    ],
                    "mesh3d": [
                      {
                        "colorbar": {
                          "outlinewidth": 0,
                          "ticks": ""
                        },
                        "type": "mesh3d"
                      }
                    ],
                    "parcoords": [
                      {
                        "line": {
                          "colorbar": {
                            "outlinewidth": 0,
                            "ticks": ""
                          }
                        },
                        "type": "parcoords"
                      }
                    ],
                    "pie": [
                      {
                        "automargin": true,
                        "type": "pie"
                      }
                    ],
                    "scatter": [
                      {
                        "fillpattern": {
                          "fillmode": "overlay",
                          "size": 10,
                          "solidity": 0.2
                        },
                        "type": "scatter"
                      }
                    ],
                    "scatter3d": [
                      {
                        "line": {
                          "colorbar": {
                            "outlinewidth": 0,
                            "ticks": ""
                          }
                        },
                        "marker": {
                          "colorbar": {
                            "outlinewidth": 0,
                            "ticks": ""
                          }
                        },
                        "type": "scatter3d"
                      }
                    ],
                    "scattercarpet": [
                      {
                        "marker": {
                          "colorbar": {
                            "outlinewidth": 0,
                            "ticks": ""
                          }
                        },
                        "type": "scattercarpet"
                      }
                    ],
                    "scattergeo": [
                      {
                        "marker": {
                          "colorbar": {
                            "outlinewidth": 0,
                            "ticks": ""
                          }
                        },
                        "type": "scattergeo"
                      }
                    ],
                    "scattergl": [
                      {
                        "marker": {
                          "colorbar": {
                            "outlinewidth": 0,
                            "ticks": ""
                          }
                        },
                        "type": "scattergl"
                      }
                    ],
                    "scattermap": [
                      {
                        "marker": {
                          "colorbar": {
                            "outlinewidth": 0,
                            "ticks": ""
                          }
                        },
                        "type": "scattermap"
                      }
                    ],
                    "scattermapbox": [
                      {
                        "marker": {
                          "colorbar": {
                            "outlinewidth": 0,
                            "ticks": ""
                          }
                        },
                        "type": "scattermapbox"
                      }
                    ],
                    "scatterpolar": [
                      {
                        "marker": {
                          "colorbar": {
                            "outlinewidth": 0,
                            "ticks": ""
                          }
                        },
                        "type": "scatterpolar"
                      }
                    ],
                    "scatterpolargl": [
                      {
                        "marker": {
                          "colorbar": {
                            "outlinewidth": 0,
                            "ticks": ""
                          }
                        },
                        "type": "scatterpolargl"
                      }
                    ],
                    "scatterternary": [
                      {
                        "marker": {
                          "colorbar": {
                            "outlinewidth": 0,
                            "ticks": ""
                          }
                        },
                        "type": "scatterternary"
                      }
                    ],
                    "surface": [
                      {
                        "colorbar": {
                          "outlinewidth": 0,
                          "ticks": ""
                        },
                        "colorscale": [
                          [
                            0,
                            "#0d0887"
                          ],
                          [
                            0.1111111111111111,
                            "#46039f"
                          ],
                          [
                            0.2222222222222222,
                            "#7201a8"
                          ],
                          [
                            0.3333333333333333,
                            "#9c179e"
                          ],
                          [
                            0.4444444444444444,
                            "#bd3786"
                          ],
                          [
                            0.5555555555555556,
                            "#d8576b"
                          ],
                          [
                            0.6666666666666666,
                            "#ed7953"
                          ],
                          [
                            0.7777777777777778,
                            "#fb9f3a"
                          ],
                          [
                            0.8888888888888888,
                            "#fdca26"
                          ],
                          [
                            1,
                            "#f0f921"
                          ]
                        ],
                        "type": "surface"
                      }
                    ],
                    "table": [
                      {
                        "cells": {
                          "fill": {
                            "color": "#EBF0F8"
                          },
                          "line": {
                            "color": "white"
                          }
                        },
                        "header": {
                          "fill": {
                            "color": "#C8D4E3"
                          },
                          "line": {
                            "color": "white"
                          }
                        },
                        "type": "table"
                      }
                    ]
                  },
                  "layout": {
                    "annotationdefaults": {
                      "arrowcolor": "#2a3f5f",
                      "arrowhead": 0,
                      "arrowwidth": 1
                    },
                    "autotypenumbers": "strict",
                    "coloraxis": {
                      "colorbar": {
                        "outlinewidth": 0,
                        "ticks": ""
                      }
                    },
                    "colorscale": {
                      "diverging": [
                        [
                          0,
                          "#8e0152"
                        ],
                        [
                          0.1,
                          "#c51b7d"
                        ],
                        [
                          0.2,
                          "#de77ae"
                        ],
                        [
                          0.3,
                          "#f1b6da"
                        ],
                        [
                          0.4,
                          "#fde0ef"
                        ],
                        [
                          0.5,
                          "#f7f7f7"
                        ],
                        [
                          0.6,
                          "#e6f5d0"
                        ],
                        [
                          0.7,
                          "#b8e186"
                        ],
                        [
                          0.8,
                          "#7fbc41"
                        ],
                        [
                          0.9,
                          "#4d9221"
                        ],
                        [
                          1,
                          "#276419"
                        ]
                      ],
                      "sequential": [
                        [
                          0,
                          "#0d0887"
                        ],
                        [
                          0.1111111111111111,
                          "#46039f"
                        ],
                        [
                          0.2222222222222222,
                          "#7201a8"
                        ],
                        [
                          0.3333333333333333,
                          "#9c179e"
                        ],
                        [
                          0.4444444444444444,
                          "#bd3786"
                        ],
                        [
                          0.5555555555555556,
                          "#d8576b"
                        ],
                        [
                          0.6666666666666666,
                          "#ed7953"
                        ],
                        [
                          0.7777777777777778,
                          "#fb9f3a"
                        ],
                        [
                          0.8888888888888888,
                          "#fdca26"
                        ],
                        [
                          1,
                          "#f0f921"
                        ]
                      ],
                      "sequentialminus": [
                        [
                          0,
                          "#0d0887"
                        ],
                        [
                          0.1111111111111111,
                          "#46039f"
                        ],
                        [
                          0.2222222222222222,
                          "#7201a8"
                        ],
                        [
                          0.3333333333333333,
                          "#9c179e"
                        ],
                        [
                          0.4444444444444444,
                          "#bd3786"
                        ],
                        [
                          0.5555555555555556,
                          "#d8576b"
                        ],
                        [
                          0.6666666666666666,
                          "#ed7953"
                        ],
                        [
                          0.7777777777777778,
                          "#fb9f3a"
                        ],
                        [
                          0.8888888888888888,
                          "#fdca26"
                        ],
                        [
                          1,
                          "#f0f921"
                        ]
                      ]
                    },
                    "colorway": [
                      "#636efa",
                      "#EF553B",
                      "#00cc96",
                      "#ab63fa",
                      "#FFA15A",
                      "#19d3f3",
                      "#FF6692",
                      "#B6E880",
                      "#FF97FF",
                      "#FECB52"
                    ],
                    "font": {
                      "color": "#2a3f5f"
                    },
                    "geo": {
                      "bgcolor": "white",
                      "lakecolor": "white",
                      "landcolor": "white",
                      "showlakes": true,
                      "showland": true,
                      "subunitcolor": "#C8D4E3"
                    },
                    "hoverlabel": {
                      "align": "left"
                    },
                    "hovermode": "closest",
                    "mapbox": {
                      "style": "light"
                    },
                    "paper_bgcolor": "white",
                    "plot_bgcolor": "white",
                    "polar": {
                      "angularaxis": {
                        "gridcolor": "#EBF0F8",
                        "linecolor": "#EBF0F8",
                        "ticks": ""
                      },
                      "bgcolor": "white",
                      "radialaxis": {
                        "gridcolor": "#EBF0F8",
                        "linecolor": "#EBF0F8",
                        "ticks": ""
                      }
                    },
                    "scene": {
                      "xaxis": {
                        "backgroundcolor": "white",
                        "gridcolor": "#DFE8F3",
                        "gridwidth": 2,
                        "linecolor": "#EBF0F8",
                        "showbackground": true,
                        "ticks": "",
                        "zerolinecolor": "#EBF0F8"
                      },
                      "yaxis": {
                        "backgroundcolor": "white",
                        "gridcolor": "#DFE8F3",
                        "gridwidth": 2,
                        "linecolor": "#EBF0F8",
                        "showbackground": true,
                        "ticks": "",
                        "zerolinecolor": "#EBF0F8"
                      },
                      "zaxis": {
                        "backgroundcolor": "white",
                        "gridcolor": "#DFE8F3",
                        "gridwidth": 2,
                        "linecolor": "#EBF0F8",
                        "showbackground": true,
                        "ticks": "",
                        "zerolinecolor": "#EBF0F8"
                      }
                    },
                    "shapedefaults": {
                      "line": {
                        "color": "#2a3f5f"
                      }
                    },
                    "ternary": {
                      "aaxis": {
                        "gridcolor": "#DFE8F3",
                        "linecolor": "#A2B1C6",
                        "ticks": ""
                      },
                      "baxis": {
                        "gridcolor": "#DFE8F3",
                        "linecolor": "#A2B1C6",
                        "ticks": ""
                      },
                      "bgcolor": "white",
                      "caxis": {
                        "gridcolor": "#DFE8F3",
                        "linecolor": "#A2B1C6",
                        "ticks": ""
                      }
                    },
                    "title": {
                      "x": 0.05
                    },
                    "xaxis": {
                      "automargin": true,
                      "gridcolor": "#EBF0F8",
                      "linecolor": "#EBF0F8",
                      "ticks": "",
                      "title": {
                        "standoff": 15
                      },
                      "zerolinecolor": "#EBF0F8",
                      "zerolinewidth": 2
                    },
                    "yaxis": {
                      "automargin": true,
                      "gridcolor": "#EBF0F8",
                      "linecolor": "#EBF0F8",
                      "ticks": "",
                      "title": {
                        "standoff": 15
                      },
                      "zerolinecolor": "#EBF0F8",
                      "zerolinewidth": 2
                    }
                  }
                },
                "title": {
                  "font": {
                    "color": "Black",
                    "size": 22
                  },
                  "text": "Topic-Word Distributions",
                  "x": 0.5,
                  "xanchor": "center",
                  "yanchor": "top"
                },
                "width": 1000,
                "xaxis": {
                  "anchor": "y",
                  "domain": [
                    0,
                    0.175
                  ],
                  "showgrid": true
                },
                "xaxis10": {
                  "anchor": "y10",
                  "domain": [
                    0.275,
                    0.45
                  ],
                  "showgrid": true
                },
                "xaxis11": {
                  "anchor": "y11",
                  "domain": [
                    0.55,
                    0.7250000000000001
                  ],
                  "showgrid": true
                },
                "xaxis12": {
                  "anchor": "y12",
                  "domain": [
                    0.825,
                    1
                  ],
                  "showgrid": true
                },
                "xaxis13": {
                  "anchor": "y13",
                  "domain": [
                    0,
                    0.175
                  ],
                  "showgrid": true
                },
                "xaxis14": {
                  "anchor": "y14",
                  "domain": [
                    0.275,
                    0.45
                  ],
                  "showgrid": true
                },
                "xaxis15": {
                  "anchor": "y15",
                  "domain": [
                    0.55,
                    0.7250000000000001
                  ],
                  "showgrid": true
                },
                "xaxis16": {
                  "anchor": "y16",
                  "domain": [
                    0.825,
                    1
                  ],
                  "showgrid": true
                },
                "xaxis17": {
                  "anchor": "y17",
                  "domain": [
                    0,
                    0.175
                  ],
                  "showgrid": true
                },
                "xaxis18": {
                  "anchor": "y18",
                  "domain": [
                    0.275,
                    0.45
                  ],
                  "showgrid": true
                },
                "xaxis19": {
                  "anchor": "y19",
                  "domain": [
                    0.55,
                    0.7250000000000001
                  ],
                  "showgrid": true
                },
                "xaxis2": {
                  "anchor": "y2",
                  "domain": [
                    0.275,
                    0.45
                  ],
                  "showgrid": true
                },
                "xaxis20": {
                  "anchor": "y20",
                  "domain": [
                    0.825,
                    1
                  ],
                  "showgrid": true
                },
                "xaxis3": {
                  "anchor": "y3",
                  "domain": [
                    0.55,
                    0.7250000000000001
                  ],
                  "showgrid": true
                },
                "xaxis4": {
                  "anchor": "y4",
                  "domain": [
                    0.825,
                    1
                  ],
                  "showgrid": true
                },
                "xaxis5": {
                  "anchor": "y5",
                  "domain": [
                    0,
                    0.175
                  ],
                  "showgrid": true
                },
                "xaxis6": {
                  "anchor": "y6",
                  "domain": [
                    0.275,
                    0.45
                  ],
                  "showgrid": true
                },
                "xaxis7": {
                  "anchor": "y7",
                  "domain": [
                    0.55,
                    0.7250000000000001
                  ],
                  "showgrid": true
                },
                "xaxis8": {
                  "anchor": "y8",
                  "domain": [
                    0.825,
                    1
                  ],
                  "showgrid": true
                },
                "xaxis9": {
                  "anchor": "y9",
                  "domain": [
                    0,
                    0.175
                  ],
                  "showgrid": true
                },
                "yaxis": {
                  "anchor": "x",
                  "domain": [
                    0.88,
                    1
                  ],
                  "showgrid": true
                },
                "yaxis10": {
                  "anchor": "x10",
                  "domain": [
                    0.44,
                    0.56
                  ],
                  "showgrid": true
                },
                "yaxis11": {
                  "anchor": "x11",
                  "domain": [
                    0.44,
                    0.56
                  ],
                  "showgrid": true
                },
                "yaxis12": {
                  "anchor": "x12",
                  "domain": [
                    0.44,
                    0.56
                  ],
                  "showgrid": true
                },
                "yaxis13": {
                  "anchor": "x13",
                  "domain": [
                    0.22,
                    0.33999999999999997
                  ],
                  "showgrid": true
                },
                "yaxis14": {
                  "anchor": "x14",
                  "domain": [
                    0.22,
                    0.33999999999999997
                  ],
                  "showgrid": true
                },
                "yaxis15": {
                  "anchor": "x15",
                  "domain": [
                    0.22,
                    0.33999999999999997
                  ],
                  "showgrid": true
                },
                "yaxis16": {
                  "anchor": "x16",
                  "domain": [
                    0.22,
                    0.33999999999999997
                  ],
                  "showgrid": true
                },
                "yaxis17": {
                  "anchor": "x17",
                  "domain": [
                    0,
                    0.12
                  ],
                  "showgrid": true
                },
                "yaxis18": {
                  "anchor": "x18",
                  "domain": [
                    0,
                    0.12
                  ],
                  "showgrid": true
                },
                "yaxis19": {
                  "anchor": "x19",
                  "domain": [
                    0,
                    0.12
                  ],
                  "showgrid": true
                },
                "yaxis2": {
                  "anchor": "x2",
                  "domain": [
                    0.88,
                    1
                  ],
                  "showgrid": true
                },
                "yaxis20": {
                  "anchor": "x20",
                  "domain": [
                    0,
                    0.12
                  ],
                  "showgrid": true
                },
                "yaxis3": {
                  "anchor": "x3",
                  "domain": [
                    0.88,
                    1
                  ],
                  "showgrid": true
                },
                "yaxis4": {
                  "anchor": "x4",
                  "domain": [
                    0.88,
                    1
                  ],
                  "showgrid": true
                },
                "yaxis5": {
                  "anchor": "x5",
                  "domain": [
                    0.66,
                    0.78
                  ],
                  "showgrid": true
                },
                "yaxis6": {
                  "anchor": "x6",
                  "domain": [
                    0.66,
                    0.78
                  ],
                  "showgrid": true
                },
                "yaxis7": {
                  "anchor": "x7",
                  "domain": [
                    0.66,
                    0.78
                  ],
                  "showgrid": true
                },
                "yaxis8": {
                  "anchor": "x8",
                  "domain": [
                    0.66,
                    0.78
                  ],
                  "showgrid": true
                },
                "yaxis9": {
                  "anchor": "x9",
                  "domain": [
                    0.44,
                    0.56
                  ],
                  "showgrid": true
                }
              }
            }
          },
          "metadata": {},
          "output_type": "display_data"
        }
      ],
      "source": [
        "fig = model.visualize_topic(top_n=20)\n",
        "fig.show()"
      ]
    },
    {
      "cell_type": "markdown",
      "metadata": {
        "id": "rdXHDD1cQE28"
      },
      "source": [
        "## Visualize topic hierarchy\n",
        "\n",
        "We use the learned topic embeddings and `scipy.cluster.hierarchy` to build a hierarchy of discovered topics."
      ]
    },
    {
      "cell_type": "code",
      "execution_count": 11,
      "metadata": {
        "colab": {
          "base_uri": "https://localhost:8080/",
          "height": 1000
        },
        "id": "M5GekeGOQE28",
        "outputId": "658851c5-08ec-47a1-a041-bf0e7ce02372"
      },
      "outputs": [
        {
          "name": "stderr",
          "output_type": "stream",
          "text": [
            "/Users/hendrikweichel/miniconda3/envs/remedi/lib/python3.10/site-packages/fastopic/_plot.py:265: ClusterWarning:\n",
            "\n",
            "The symmetric non-negative hollow observation matrix looks suspiciously like an uncondensed distance matrix\n",
            "\n"
          ]
        },
        {
          "data": {
            "application/vnd.plotly.v1+json": {
              "config": {
                "plotlyServerURL": "https://plot.ly"
              },
              "data": [
                {
                  "hoverinfo": "text",
                  "marker": {
                    "color": "rgb(61,153,112)"
                  },
                  "mode": "lines",
                  "type": "scatter",
                  "x": {
                    "bdata": "AAAAAAAAAABbG6X2QN4QQFsbpfZA3hBAAAAAAAAAAAA=",
                    "dtype": "f8"
                  },
                  "xaxis": "x",
                  "y": {
                    "bdata": "AAAAAAAAFMAAAAAAAAAUwAAAAAAAAC7AAAAAAAAALsA=",
                    "dtype": "f8"
                  },
                  "yaxis": "y"
                },
                {
                  "hoverinfo": "text",
                  "marker": {
                    "color": "rgb(61,153,112)"
                  },
                  "mode": "lines",
                  "type": "scatter",
                  "x": {
                    "bdata": "AAAAAAAAAAD3jaQGc8EMQPeNpAZzwQxAAAAAAAAAAAA=",
                    "dtype": "f8"
                  },
                  "xaxis": "x",
                  "y": {
                    "bdata": "AAAAAAAAOcAAAAAAAAA5wAAAAAAAgEHAAAAAAACAQcA=",
                    "dtype": "f8"
                  },
                  "yaxis": "y"
                },
                {
                  "hoverinfo": "text",
                  "marker": {
                    "color": "rgb(61,153,112)"
                  },
                  "mode": "lines",
                  "type": "scatter",
                  "x": {
                    "bdata": "942kBnPBDECIL8TkNiYOQIgvxOQ2Jg5AAAAAAAAAAAA=",
                    "dtype": "f8"
                  },
                  "xaxis": "x",
                  "y": {
                    "bdata": "AAAAAAAAPsAAAAAAAAA+wAAAAAAAgEbAAAAAAACARsA=",
                    "dtype": "f8"
                  },
                  "yaxis": "y"
                },
                {
                  "hoverinfo": "text",
                  "marker": {
                    "color": "rgb(61,153,112)"
                  },
                  "mode": "lines",
                  "type": "scatter",
                  "x": {
                    "bdata": "Wxul9kDeEECYg+G7kbsYQJiD4buRuxhAiC/E5DYmDkA=",
                    "dtype": "f8"
                  },
                  "xaxis": "x",
                  "y": {
                    "bdata": "AAAAAAAAJMAAAAAAAAAkwAAAAAAAwELAAAAAAADAQsA=",
                    "dtype": "f8"
                  },
                  "yaxis": "y"
                },
                {
                  "hoverinfo": "text",
                  "marker": {
                    "color": "rgb(61,153,112)"
                  },
                  "mode": "lines",
                  "type": "scatter",
                  "x": {
                    "bdata": "AAAAAAAAAACP00lon3wQQI/TSWiffBBAAAAAAAAAAAA=",
                    "dtype": "f8"
                  },
                  "xaxis": "x",
                  "y": {
                    "bdata": "AAAAAACAS8AAAAAAAIBLwAAAAAAAQFDAAAAAAABAUMA=",
                    "dtype": "f8"
                  },
                  "yaxis": "y"
                },
                {
                  "hoverinfo": "text",
                  "marker": {
                    "color": "rgb(61,153,112)"
                  },
                  "mode": "lines",
                  "type": "scatter",
                  "x": {
                    "bdata": "AAAAAAAAAABi3ukV+o8OQGLe6RX6jw5AAAAAAAAAAAA=",
                    "dtype": "f8"
                  },
                  "xaxis": "x",
                  "y": {
                    "bdata": "AAAAAADAUsAAAAAAAMBSwAAAAAAAQFXAAAAAAABAVcA=",
                    "dtype": "f8"
                  },
                  "yaxis": "y"
                },
                {
                  "hoverinfo": "text",
                  "marker": {
                    "color": "rgb(61,153,112)"
                  },
                  "mode": "lines",
                  "type": "scatter",
                  "x": {
                    "bdata": "j9NJaJ98EEBFL2jx0QgVQEUvaPHRCBVAYt7pFfqPDkA=",
                    "dtype": "f8"
                  },
                  "xaxis": "x",
                  "y": {
                    "bdata": "AAAAAAAATsAAAAAAAABOwAAAAAAAAFTAAAAAAAAAVMA=",
                    "dtype": "f8"
                  },
                  "yaxis": "y"
                },
                {
                  "hoverinfo": "text",
                  "marker": {
                    "color": "rgb(61,153,112)"
                  },
                  "mode": "lines",
                  "type": "scatter",
                  "x": {
                    "bdata": "AAAAAAAAAABuha+iuaQMQG6Fr6K5pAxAAAAAAAAAAAA=",
                    "dtype": "f8"
                  },
                  "xaxis": "x",
                  "y": {
                    "bdata": "AAAAAABAWsAAAAAAAEBawAAAAAAAwFzAAAAAAADAXMA=",
                    "dtype": "f8"
                  },
                  "yaxis": "y"
                },
                {
                  "hoverinfo": "text",
                  "marker": {
                    "color": "rgb(61,153,112)"
                  },
                  "mode": "lines",
                  "type": "scatter",
                  "x": {
                    "bdata": "AAAAAAAAAABJqddld5YOQEmp12V3lg5AboWvormkDEA=",
                    "dtype": "f8"
                  },
                  "xaxis": "x",
                  "y": {
                    "bdata": "AAAAAADAV8AAAAAAAMBXwAAAAAAAgFvAAAAAAACAW8A=",
                    "dtype": "f8"
                  },
                  "yaxis": "y"
                },
                {
                  "hoverinfo": "text",
                  "marker": {
                    "color": "rgb(61,153,112)"
                  },
                  "mode": "lines",
                  "type": "scatter",
                  "x": {
                    "bdata": "AAAAAAAAAADqwQP2CCgPQOrBA/YIKA9AAAAAAAAAAAA=",
                    "dtype": "f8"
                  },
                  "xaxis": "x",
                  "y": {
                    "bdata": "AAAAAADgYMAAAAAAAOBgwAAAAAAAIGLAAAAAAAAgYsA=",
                    "dtype": "f8"
                  },
                  "yaxis": "y"
                },
                {
                  "hoverinfo": "text",
                  "marker": {
                    "color": "rgb(61,153,112)"
                  },
                  "mode": "lines",
                  "type": "scatter",
                  "x": {
                    "bdata": "AAAAAAAAAACRpS8Gi8kQQJGlLwaLyRBA6sED9ggoD0A=",
                    "dtype": "f8"
                  },
                  "xaxis": "x",
                  "y": {
                    "bdata": "AAAAAABAX8AAAAAAAEBfwAAAAAAAgGHAAAAAAACAYcA=",
                    "dtype": "f8"
                  },
                  "yaxis": "y"
                },
                {
                  "hoverinfo": "text",
                  "marker": {
                    "color": "rgb(61,153,112)"
                  },
                  "mode": "lines",
                  "type": "scatter",
                  "x": {
                    "bdata": "kaUvBovJEECnAzB4WcARQKcDMHhZwBFAAAAAAAAAAAA=",
                    "dtype": "f8"
                  },
                  "xaxis": "x",
                  "y": {
                    "bdata": "AAAAAACQYMAAAAAAAJBgwAAAAAAAYGPAAAAAAABgY8A=",
                    "dtype": "f8"
                  },
                  "yaxis": "y"
                },
                {
                  "hoverinfo": "text",
                  "marker": {
                    "color": "rgb(61,153,112)"
                  },
                  "mode": "lines",
                  "type": "scatter",
                  "x": {
                    "bdata": "SanXZXeWDkCvc0cDsiwVQK9zRwOyLBVApwMweFnAEUA=",
                    "dtype": "f8"
                  },
                  "xaxis": "x",
                  "y": {
                    "bdata": "AAAAAACgWcAAAAAAAKBZwAAAAAAA+GHAAAAAAAD4YcA=",
                    "dtype": "f8"
                  },
                  "yaxis": "y"
                },
                {
                  "hoverinfo": "text",
                  "marker": {
                    "color": "rgb(61,153,112)"
                  },
                  "mode": "lines",
                  "type": "scatter",
                  "x": {
                    "bdata": "RS9o8dEIFUClMjYVx4YZQKUyNhXHhhlAr3NHA7IsFUA=",
                    "dtype": "f8"
                  },
                  "xaxis": "x",
                  "y": {
                    "bdata": "AAAAAACAUcAAAAAAAIBRwAAAAAAAyF7AAAAAAADIXsA=",
                    "dtype": "f8"
                  },
                  "yaxis": "y"
                },
                {
                  "hoverinfo": "text",
                  "marker": {
                    "color": "rgb(61,153,112)"
                  },
                  "mode": "lines",
                  "type": "scatter",
                  "x": {
                    "bdata": "mIPhu5G7GECmjVPSq2MfQKaNU9KrYx9ApTI2FceGGUA=",
                    "dtype": "f8"
                  },
                  "xaxis": "x",
                  "y": {
                    "bdata": "AAAAAADAN8AAAAAAAMA3wAAAAAAAJFjAAAAAAAAkWMA=",
                    "dtype": "f8"
                  },
                  "yaxis": "y"
                },
                {
                  "hoverinfo": "text",
                  "marker": {
                    "color": "rgb(255,65,54)"
                  },
                  "mode": "lines",
                  "type": "scatter",
                  "x": {
                    "bdata": "AAAAAAAAAADFZoFl1SIRQMVmgWXVIhFAAAAAAAAAAAA=",
                    "dtype": "f8"
                  },
                  "xaxis": "x",
                  "y": {
                    "bdata": "AAAAAADgZcAAAAAAAOBlwAAAAAAAIGfAAAAAAAAgZ8A=",
                    "dtype": "f8"
                  },
                  "yaxis": "y"
                },
                {
                  "hoverinfo": "text",
                  "marker": {
                    "color": "rgb(255,65,54)"
                  },
                  "mode": "lines",
                  "type": "scatter",
                  "x": {
                    "bdata": "AAAAAAAAAABpPG1ajRYTQGk8bVqNFhNAxWaBZdUiEUA=",
                    "dtype": "f8"
                  },
                  "xaxis": "x",
                  "y": {
                    "bdata": "AAAAAACgZMAAAAAAAKBkwAAAAAAAgGbAAAAAAACAZsA=",
                    "dtype": "f8"
                  },
                  "yaxis": "y"
                },
                {
                  "hoverinfo": "text",
                  "marker": {
                    "color": "rgb(255,65,54)"
                  },
                  "mode": "lines",
                  "type": "scatter",
                  "x": {
                    "bdata": "AAAAAAAAAACDTCXc4GEQQINMJdzgYRBAAAAAAAAAAAA=",
                    "dtype": "f8"
                  },
                  "xaxis": "x",
                  "y": {
                    "bdata": "AAAAAABgaMAAAAAAAGBowAAAAAAAoGnAAAAAAACgacA=",
                    "dtype": "f8"
                  },
                  "yaxis": "y"
                },
                {
                  "hoverinfo": "text",
                  "marker": {
                    "color": "rgb(255,65,54)"
                  },
                  "mode": "lines",
                  "type": "scatter",
                  "x": {
                    "bdata": "aTxtWo0WE0B0jKmKrBoYQHSMqYqsGhhAg0wl3OBhEEA=",
                    "dtype": "f8"
                  },
                  "xaxis": "x",
                  "y": {
                    "bdata": "AAAAAACQZcAAAAAAAJBlwAAAAAAAAGnAAAAAAAAAacA=",
                    "dtype": "f8"
                  },
                  "yaxis": "y"
                },
                {
                  "hoverinfo": "text",
                  "marker": {
                    "color": "rgb(255,65,54)"
                  },
                  "mode": "lines",
                  "type": "scatter",
                  "x": {
                    "bdata": "AAAAAAAAAACH05oKwZgQQIfTmgrBmBBAAAAAAAAAAAA=",
                    "dtype": "f8"
                  },
                  "xaxis": "x",
                  "y": {
                    "bdata": "AAAAAAAgbMAAAAAAACBswAAAAAAAYG3AAAAAAABgbcA=",
                    "dtype": "f8"
                  },
                  "yaxis": "y"
                },
                {
                  "hoverinfo": "text",
                  "marker": {
                    "color": "rgb(255,65,54)"
                  },
                  "mode": "lines",
                  "type": "scatter",
                  "x": {
                    "bdata": "AAAAAAAAAAApa4Y4+OoQQClrhjj46hBAh9OaCsGYEEA=",
                    "dtype": "f8"
                  },
                  "xaxis": "x",
                  "y": {
                    "bdata": "AAAAAADgasAAAAAAAOBqwAAAAAAAwGzAAAAAAADAbMA=",
                    "dtype": "f8"
                  },
                  "yaxis": "y"
                },
                {
                  "hoverinfo": "text",
                  "marker": {
                    "color": "rgb(255,65,54)"
                  },
                  "mode": "lines",
                  "type": "scatter",
                  "x": {
                    "bdata": "KWuGOPjqEECsrjqojnkSQKyuOqiOeRJAAAAAAAAAAAA=",
                    "dtype": "f8"
                  },
                  "xaxis": "x",
                  "y": {
                    "bdata": "AAAAAADQa8AAAAAAANBrwAAAAAAAoG7AAAAAAACgbsA=",
                    "dtype": "f8"
                  },
                  "yaxis": "y"
                },
                {
                  "hoverinfo": "text",
                  "marker": {
                    "color": "rgb(255,65,54)"
                  },
                  "mode": "lines",
                  "type": "scatter",
                  "x": {
                    "bdata": "rK46qI55EkCwn8H2VWkUQLCfwfZVaRRAAAAAAAAAAAA=",
                    "dtype": "f8"
                  },
                  "xaxis": "x",
                  "y": {
                    "bdata": "AAAAAAA4bcAAAAAAADhtwAAAAAAA4G/AAAAAAADgb8A=",
                    "dtype": "f8"
                  },
                  "yaxis": "y"
                },
                {
                  "hoverinfo": "text",
                  "marker": {
                    "color": "rgb(255,65,54)"
                  },
                  "mode": "lines",
                  "type": "scatter",
                  "x": {
                    "bdata": "dIypiqwaGEAr1UTiRg8dQCvVROJGDx1AsJ/B9lVpFEA=",
                    "dtype": "f8"
                  },
                  "xaxis": "x",
                  "y": {
                    "bdata": "AAAAAABIZ8AAAAAAAEhnwAAAAAAAjG7AAAAAAACMbsA=",
                    "dtype": "f8"
                  },
                  "yaxis": "y"
                },
                {
                  "hoverinfo": "text",
                  "marker": {
                    "color": "rgb(255,65,54)"
                  },
                  "mode": "lines",
                  "type": "scatter",
                  "x": {
                    "bdata": "AAAAAAAAAAAIZ4v6bLcPQAhni/pstw9AAAAAAAAAAAA=",
                    "dtype": "f8"
                  },
                  "xaxis": "x",
                  "y": {
                    "bdata": "AAAAAAAwccAAAAAAADBxwAAAAAAA0HHAAAAAAADQccA=",
                    "dtype": "f8"
                  },
                  "yaxis": "y"
                },
                {
                  "hoverinfo": "text",
                  "marker": {
                    "color": "rgb(255,65,54)"
                  },
                  "mode": "lines",
                  "type": "scatter",
                  "x": {
                    "bdata": "AAAAAAAAAAC7ZznEiYUQQLtnOcSJhRBACGeL+my3D0A=",
                    "dtype": "f8"
                  },
                  "xaxis": "x",
                  "y": {
                    "bdata": "AAAAAACQcMAAAAAAAJBwwAAAAAAAgHHAAAAAAACAccA=",
                    "dtype": "f8"
                  },
                  "yaxis": "y"
                },
                {
                  "hoverinfo": "text",
                  "marker": {
                    "color": "rgb(255,65,54)"
                  },
                  "mode": "lines",
                  "type": "scatter",
                  "x": {
                    "bdata": "AAAAAAAAAACQ+Xw8X8ANQJD5fDxfwA1AAAAAAAAAAAA=",
                    "dtype": "f8"
                  },
                  "xaxis": "x",
                  "y": {
                    "bdata": "AAAAAAAQc8AAAAAAABBzwAAAAAAAsHPAAAAAAACwc8A=",
                    "dtype": "f8"
                  },
                  "yaxis": "y"
                },
                {
                  "hoverinfo": "text",
                  "marker": {
                    "color": "rgb(255,65,54)"
                  },
                  "mode": "lines",
                  "type": "scatter",
                  "x": {
                    "bdata": "AAAAAAAAAABnhKAzKNgRQGeEoDMo2BFAkPl8PF/ADUA=",
                    "dtype": "f8"
                  },
                  "xaxis": "x",
                  "y": {
                    "bdata": "AAAAAABwcsAAAAAAAHBywAAAAAAAYHPAAAAAAABgc8A=",
                    "dtype": "f8"
                  },
                  "yaxis": "y"
                },
                {
                  "hoverinfo": "text",
                  "marker": {
                    "color": "rgb(255,65,54)"
                  },
                  "mode": "lines",
                  "type": "scatter",
                  "x": {
                    "bdata": "u2c5xImFEEB8q+YVB6QVQHyr5hUHpBVAZ4SgMyjYEUA=",
                    "dtype": "f8"
                  },
                  "xaxis": "x",
                  "y": {
                    "bdata": "AAAAAAAIccAAAAAAAAhxwAAAAAAA6HLAAAAAAADocsA=",
                    "dtype": "f8"
                  },
                  "yaxis": "y"
                },
                {
                  "hoverinfo": "text",
                  "marker": {
                    "color": "rgb(255,65,54)"
                  },
                  "mode": "lines",
                  "type": "scatter",
                  "x": {
                    "bdata": "AAAAAAAAAADbkWFE1G8NQNuRYUTUbw1AAAAAAAAAAAA=",
                    "dtype": "f8"
                  },
                  "xaxis": "x",
                  "y": {
                    "bdata": "AAAAAADwdMAAAAAAAPB0wAAAAAAAkHXAAAAAAACQdcA=",
                    "dtype": "f8"
                  },
                  "yaxis": "y"
                },
                {
                  "hoverinfo": "text",
                  "marker": {
                    "color": "rgb(255,65,54)"
                  },
                  "mode": "lines",
                  "type": "scatter",
                  "x": {
                    "bdata": "AAAAAAAAAADTfXK+/NESQNN9cr780RJA25FhRNRvDUA=",
                    "dtype": "f8"
                  },
                  "xaxis": "x",
                  "y": {
                    "bdata": "AAAAAABQdMAAAAAAAFB0wAAAAAAAQHXAAAAAAABAdcA=",
                    "dtype": "f8"
                  },
                  "yaxis": "y"
                },
                {
                  "hoverinfo": "text",
                  "marker": {
                    "color": "rgb(255,65,54)"
                  },
                  "mode": "lines",
                  "type": "scatter",
                  "x": {
                    "bdata": "AAAAAAAAAADmQi8F2ukPQOZCLwXa6Q9AAAAAAAAAAAA=",
                    "dtype": "f8"
                  },
                  "xaxis": "x",
                  "y": {
                    "bdata": "AAAAAADQdsAAAAAAANB2wAAAAAAAcHfAAAAAAABwd8A=",
                    "dtype": "f8"
                  },
                  "yaxis": "y"
                },
                {
                  "hoverinfo": "text",
                  "marker": {
                    "color": "rgb(255,65,54)"
                  },
                  "mode": "lines",
                  "type": "scatter",
                  "x": {
                    "bdata": "AAAAAAAAAADM+Xa9IWMSQMz5dr0hYxJA5kIvBdrpD0A=",
                    "dtype": "f8"
                  },
                  "xaxis": "x",
                  "y": {
                    "bdata": "AAAAAAAwdsAAAAAAADB2wAAAAAAAIHfAAAAAAAAgd8A=",
                    "dtype": "f8"
                  },
                  "yaxis": "y"
                },
                {
                  "hoverinfo": "text",
                  "marker": {
                    "color": "rgb(255,65,54)"
                  },
                  "mode": "lines",
                  "type": "scatter",
                  "x": {
                    "bdata": "031yvvzREkCEKs3AfFgaQIQqzcB8WBpAzPl2vSFjEkA=",
                    "dtype": "f8"
                  },
                  "xaxis": "x",
                  "y": {
                    "bdata": "AAAAAADIdMAAAAAAAMh0wAAAAAAAqHbAAAAAAACodsA=",
                    "dtype": "f8"
                  },
                  "yaxis": "y"
                },
                {
                  "hoverinfo": "text",
                  "marker": {
                    "color": "rgb(255,65,54)"
                  },
                  "mode": "lines",
                  "type": "scatter",
                  "x": {
                    "bdata": "AAAAAAAAAABgmglrm4APQGCaCWubgA9AAAAAAAAAAAA=",
                    "dtype": "f8"
                  },
                  "xaxis": "x",
                  "y": {
                    "bdata": "AAAAAACweMAAAAAAALB4wAAAAAAAUHnAAAAAAABQecA=",
                    "dtype": "f8"
                  },
                  "yaxis": "y"
                },
                {
                  "hoverinfo": "text",
                  "marker": {
                    "color": "rgb(255,65,54)"
                  },
                  "mode": "lines",
                  "type": "scatter",
                  "x": {
                    "bdata": "AAAAAAAAAAD+coKjRjYRQP5ygqNGNhFAYJoJa5uAD0A=",
                    "dtype": "f8"
                  },
                  "xaxis": "x",
                  "y": {
                    "bdata": "AAAAAAAQeMAAAAAAABB4wAAAAAAAAHnAAAAAAAAAecA=",
                    "dtype": "f8"
                  },
                  "yaxis": "y"
                },
                {
                  "hoverinfo": "text",
                  "marker": {
                    "color": "rgb(255,65,54)"
                  },
                  "mode": "lines",
                  "type": "scatter",
                  "x": {
                    "bdata": "AAAAAAAAAADLkqSUYD8RQMuSpJRgPxFAAAAAAAAAAAA=",
                    "dtype": "f8"
                  },
                  "xaxis": "x",
                  "y": {
                    "bdata": "AAAAAADwecAAAAAAAPB5wAAAAAAAkHrAAAAAAACQesA=",
                    "dtype": "f8"
                  },
                  "yaxis": "y"
                },
                {
                  "hoverinfo": "text",
                  "marker": {
                    "color": "rgb(255,65,54)"
                  },
                  "mode": "lines",
                  "type": "scatter",
                  "x": {
                    "bdata": "y5KklGA/EUDk62obq6sSQOTrahurqxJAAAAAAAAAAAA=",
                    "dtype": "f8"
                  },
                  "xaxis": "x",
                  "y": {
                    "bdata": "AAAAAABAesAAAAAAAEB6wAAAAAAAMHvAAAAAAAAwe8A=",
                    "dtype": "f8"
                  },
                  "yaxis": "y"
                },
                {
                  "hoverinfo": "text",
                  "marker": {
                    "color": "rgb(255,65,54)"
                  },
                  "mode": "lines",
                  "type": "scatter",
                  "x": {
                    "bdata": "/nKCo0Y2EUARr94yI4IYQBGv3jIjghhA5OtqG6urEkA=",
                    "dtype": "f8"
                  },
                  "xaxis": "x",
                  "y": {
                    "bdata": "AAAAAACIeMAAAAAAAIh4wAAAAAAAuHrAAAAAAAC4esA=",
                    "dtype": "f8"
                  },
                  "yaxis": "y"
                },
                {
                  "hoverinfo": "text",
                  "marker": {
                    "color": "rgb(255,65,54)"
                  },
                  "mode": "lines",
                  "type": "scatter",
                  "x": {
                    "bdata": "hCrNwHxYGkCD0YINO2keQIPRgg07aR5AEa/eMiOCGEA=",
                    "dtype": "f8"
                  },
                  "xaxis": "x",
                  "y": {
                    "bdata": "AAAAAAC4dcAAAAAAALh1wAAAAAAAoHnAAAAAAACgecA=",
                    "dtype": "f8"
                  },
                  "yaxis": "y"
                },
                {
                  "hoverinfo": "text",
                  "marker": {
                    "color": "rgb(255,65,54)"
                  },
                  "mode": "lines",
                  "type": "scatter",
                  "x": {
                    "bdata": "fKvmFQekFUBxxmKzPDcgQHHGYrM8NyBAg9GCDTtpHkA=",
                    "dtype": "f8"
                  },
                  "xaxis": "x",
                  "y": {
                    "bdata": "AAAAAAD4ccAAAAAAAPhxwAAAAAAArHfAAAAAAACsd8A=",
                    "dtype": "f8"
                  },
                  "yaxis": "y"
                },
                {
                  "hoverinfo": "text",
                  "marker": {
                    "color": "rgb(255,65,54)"
                  },
                  "mode": "lines",
                  "type": "scatter",
                  "x": {
                    "bdata": "K9VE4kYPHUDqdgcvV44hQOp2By9XjiFAccZiszw3IEA=",
                    "dtype": "f8"
                  },
                  "xaxis": "x",
                  "y": {
                    "bdata": "AAAAAADqasAAAAAAAOpqwAAAAAAA0nTAAAAAAADSdMA=",
                    "dtype": "f8"
                  },
                  "yaxis": "y"
                },
                {
                  "hoverinfo": "text",
                  "marker": {
                    "color": "rgb(35,205,205)"
                  },
                  "mode": "lines",
                  "type": "scatter",
                  "x": {
                    "bdata": "AAAAAAAAAADky8ifNVcQQOTLyJ81VxBAAAAAAAAAAAA=",
                    "dtype": "f8"
                  },
                  "xaxis": "x",
                  "y": {
                    "bdata": "AAAAAADQe8AAAAAAANB7wAAAAAAAcHzAAAAAAABwfMA=",
                    "dtype": "f8"
                  },
                  "yaxis": "y"
                },
                {
                  "hoverinfo": "text",
                  "marker": {
                    "color": "rgb(35,205,205)"
                  },
                  "mode": "lines",
                  "type": "scatter",
                  "x": {
                    "bdata": "AAAAAAAAAAAYz9zGwIwPQBjP3MbAjA9AAAAAAAAAAAA=",
                    "dtype": "f8"
                  },
                  "xaxis": "x",
                  "y": {
                    "bdata": "AAAAAAAQfcAAAAAAABB9wAAAAAAAsH3AAAAAAACwfcA=",
                    "dtype": "f8"
                  },
                  "yaxis": "y"
                },
                {
                  "hoverinfo": "text",
                  "marker": {
                    "color": "rgb(35,205,205)"
                  },
                  "mode": "lines",
                  "type": "scatter",
                  "x": {
                    "bdata": "5MvInzVXEEC5AkcYEIgSQLkCRxgQiBJAGM/cxsCMD0A=",
                    "dtype": "f8"
                  },
                  "xaxis": "x",
                  "y": {
                    "bdata": "AAAAAAAgfMAAAAAAACB8wAAAAAAAYH3AAAAAAABgfcA=",
                    "dtype": "f8"
                  },
                  "yaxis": "y"
                },
                {
                  "hoverinfo": "text",
                  "marker": {
                    "color": "rgb(35,205,205)"
                  },
                  "mode": "lines",
                  "type": "scatter",
                  "x": {
                    "bdata": "AAAAAAAAAABdyp3BMMkQQF3KncEwyRBAAAAAAAAAAAA=",
                    "dtype": "f8"
                  },
                  "xaxis": "x",
                  "y": {
                    "bdata": "AAAAAABQfsAAAAAAAFB+wAAAAAAA8H7AAAAAAADwfsA=",
                    "dtype": "f8"
                  },
                  "yaxis": "y"
                },
                {
                  "hoverinfo": "text",
                  "marker": {
                    "color": "rgb(35,205,205)"
                  },
                  "mode": "lines",
                  "type": "scatter",
                  "x": {
                    "bdata": "uQJHGBCIEkB0kHkYZm4TQHSQeRhmbhNAXcqdwTDJEEA=",
                    "dtype": "f8"
                  },
                  "xaxis": "x",
                  "y": {
                    "bdata": "AAAAAADAfMAAAAAAAMB8wAAAAAAAoH7AAAAAAACgfsA=",
                    "dtype": "f8"
                  },
                  "yaxis": "y"
                },
                {
                  "hoverinfo": "text",
                  "marker": {
                    "color": "rgb(0,116,217)"
                  },
                  "mode": "lines",
                  "type": "scatter",
                  "x": {
                    "bdata": "6nYHL1eOIUCV8p/yMPIjQJXyn/Iw8iNAdJB5GGZuE0A=",
                    "dtype": "f8"
                  },
                  "xaxis": "x",
                  "y": {
                    "bdata": "AAAAAIAjccAAAAAAgCNxwAAAAAAAsH3AAAAAAACwfcA=",
                    "dtype": "f8"
                  },
                  "yaxis": "y"
                },
                {
                  "hoverinfo": "text",
                  "marker": {
                    "color": "rgb(0,116,217)"
                  },
                  "mode": "lines",
                  "type": "scatter",
                  "x": {
                    "bdata": "po1T0qtjH0BLDUtFi6MqQEsNS0WLoypAlfKf8jDyI0A=",
                    "dtype": "f8"
                  },
                  "xaxis": "x",
                  "y": {
                    "bdata": "AAAAAAAUTsAAAAAAABROwAAAAADAaXfAAAAAAMBpd8A=",
                    "dtype": "f8"
                  },
                  "yaxis": "y"
                }
              ],
              "layout": {
                "autosize": false,
                "height": 1000,
                "hovermode": "closest",
                "showlegend": false,
                "template": {
                  "data": {
                    "bar": [
                      {
                        "error_x": {
                          "color": "#2a3f5f"
                        },
                        "error_y": {
                          "color": "#2a3f5f"
                        },
                        "marker": {
                          "line": {
                            "color": "#E5ECF6",
                            "width": 0.5
                          },
                          "pattern": {
                            "fillmode": "overlay",
                            "size": 10,
                            "solidity": 0.2
                          }
                        },
                        "type": "bar"
                      }
                    ],
                    "barpolar": [
                      {
                        "marker": {
                          "line": {
                            "color": "#E5ECF6",
                            "width": 0.5
                          },
                          "pattern": {
                            "fillmode": "overlay",
                            "size": 10,
                            "solidity": 0.2
                          }
                        },
                        "type": "barpolar"
                      }
                    ],
                    "carpet": [
                      {
                        "aaxis": {
                          "endlinecolor": "#2a3f5f",
                          "gridcolor": "white",
                          "linecolor": "white",
                          "minorgridcolor": "white",
                          "startlinecolor": "#2a3f5f"
                        },
                        "baxis": {
                          "endlinecolor": "#2a3f5f",
                          "gridcolor": "white",
                          "linecolor": "white",
                          "minorgridcolor": "white",
                          "startlinecolor": "#2a3f5f"
                        },
                        "type": "carpet"
                      }
                    ],
                    "choropleth": [
                      {
                        "colorbar": {
                          "outlinewidth": 0,
                          "ticks": ""
                        },
                        "type": "choropleth"
                      }
                    ],
                    "contour": [
                      {
                        "colorbar": {
                          "outlinewidth": 0,
                          "ticks": ""
                        },
                        "colorscale": [
                          [
                            0,
                            "#0d0887"
                          ],
                          [
                            0.1111111111111111,
                            "#46039f"
                          ],
                          [
                            0.2222222222222222,
                            "#7201a8"
                          ],
                          [
                            0.3333333333333333,
                            "#9c179e"
                          ],
                          [
                            0.4444444444444444,
                            "#bd3786"
                          ],
                          [
                            0.5555555555555556,
                            "#d8576b"
                          ],
                          [
                            0.6666666666666666,
                            "#ed7953"
                          ],
                          [
                            0.7777777777777778,
                            "#fb9f3a"
                          ],
                          [
                            0.8888888888888888,
                            "#fdca26"
                          ],
                          [
                            1,
                            "#f0f921"
                          ]
                        ],
                        "type": "contour"
                      }
                    ],
                    "contourcarpet": [
                      {
                        "colorbar": {
                          "outlinewidth": 0,
                          "ticks": ""
                        },
                        "type": "contourcarpet"
                      }
                    ],
                    "heatmap": [
                      {
                        "colorbar": {
                          "outlinewidth": 0,
                          "ticks": ""
                        },
                        "colorscale": [
                          [
                            0,
                            "#0d0887"
                          ],
                          [
                            0.1111111111111111,
                            "#46039f"
                          ],
                          [
                            0.2222222222222222,
                            "#7201a8"
                          ],
                          [
                            0.3333333333333333,
                            "#9c179e"
                          ],
                          [
                            0.4444444444444444,
                            "#bd3786"
                          ],
                          [
                            0.5555555555555556,
                            "#d8576b"
                          ],
                          [
                            0.6666666666666666,
                            "#ed7953"
                          ],
                          [
                            0.7777777777777778,
                            "#fb9f3a"
                          ],
                          [
                            0.8888888888888888,
                            "#fdca26"
                          ],
                          [
                            1,
                            "#f0f921"
                          ]
                        ],
                        "type": "heatmap"
                      }
                    ],
                    "histogram": [
                      {
                        "marker": {
                          "pattern": {
                            "fillmode": "overlay",
                            "size": 10,
                            "solidity": 0.2
                          }
                        },
                        "type": "histogram"
                      }
                    ],
                    "histogram2d": [
                      {
                        "colorbar": {
                          "outlinewidth": 0,
                          "ticks": ""
                        },
                        "colorscale": [
                          [
                            0,
                            "#0d0887"
                          ],
                          [
                            0.1111111111111111,
                            "#46039f"
                          ],
                          [
                            0.2222222222222222,
                            "#7201a8"
                          ],
                          [
                            0.3333333333333333,
                            "#9c179e"
                          ],
                          [
                            0.4444444444444444,
                            "#bd3786"
                          ],
                          [
                            0.5555555555555556,
                            "#d8576b"
                          ],
                          [
                            0.6666666666666666,
                            "#ed7953"
                          ],
                          [
                            0.7777777777777778,
                            "#fb9f3a"
                          ],
                          [
                            0.8888888888888888,
                            "#fdca26"
                          ],
                          [
                            1,
                            "#f0f921"
                          ]
                        ],
                        "type": "histogram2d"
                      }
                    ],
                    "histogram2dcontour": [
                      {
                        "colorbar": {
                          "outlinewidth": 0,
                          "ticks": ""
                        },
                        "colorscale": [
                          [
                            0,
                            "#0d0887"
                          ],
                          [
                            0.1111111111111111,
                            "#46039f"
                          ],
                          [
                            0.2222222222222222,
                            "#7201a8"
                          ],
                          [
                            0.3333333333333333,
                            "#9c179e"
                          ],
                          [
                            0.4444444444444444,
                            "#bd3786"
                          ],
                          [
                            0.5555555555555556,
                            "#d8576b"
                          ],
                          [
                            0.6666666666666666,
                            "#ed7953"
                          ],
                          [
                            0.7777777777777778,
                            "#fb9f3a"
                          ],
                          [
                            0.8888888888888888,
                            "#fdca26"
                          ],
                          [
                            1,
                            "#f0f921"
                          ]
                        ],
                        "type": "histogram2dcontour"
                      }
                    ],
                    "mesh3d": [
                      {
                        "colorbar": {
                          "outlinewidth": 0,
                          "ticks": ""
                        },
                        "type": "mesh3d"
                      }
                    ],
                    "parcoords": [
                      {
                        "line": {
                          "colorbar": {
                            "outlinewidth": 0,
                            "ticks": ""
                          }
                        },
                        "type": "parcoords"
                      }
                    ],
                    "pie": [
                      {
                        "automargin": true,
                        "type": "pie"
                      }
                    ],
                    "scatter": [
                      {
                        "fillpattern": {
                          "fillmode": "overlay",
                          "size": 10,
                          "solidity": 0.2
                        },
                        "type": "scatter"
                      }
                    ],
                    "scatter3d": [
                      {
                        "line": {
                          "colorbar": {
                            "outlinewidth": 0,
                            "ticks": ""
                          }
                        },
                        "marker": {
                          "colorbar": {
                            "outlinewidth": 0,
                            "ticks": ""
                          }
                        },
                        "type": "scatter3d"
                      }
                    ],
                    "scattercarpet": [
                      {
                        "marker": {
                          "colorbar": {
                            "outlinewidth": 0,
                            "ticks": ""
                          }
                        },
                        "type": "scattercarpet"
                      }
                    ],
                    "scattergeo": [
                      {
                        "marker": {
                          "colorbar": {
                            "outlinewidth": 0,
                            "ticks": ""
                          }
                        },
                        "type": "scattergeo"
                      }
                    ],
                    "scattergl": [
                      {
                        "marker": {
                          "colorbar": {
                            "outlinewidth": 0,
                            "ticks": ""
                          }
                        },
                        "type": "scattergl"
                      }
                    ],
                    "scattermap": [
                      {
                        "marker": {
                          "colorbar": {
                            "outlinewidth": 0,
                            "ticks": ""
                          }
                        },
                        "type": "scattermap"
                      }
                    ],
                    "scattermapbox": [
                      {
                        "marker": {
                          "colorbar": {
                            "outlinewidth": 0,
                            "ticks": ""
                          }
                        },
                        "type": "scattermapbox"
                      }
                    ],
                    "scatterpolar": [
                      {
                        "marker": {
                          "colorbar": {
                            "outlinewidth": 0,
                            "ticks": ""
                          }
                        },
                        "type": "scatterpolar"
                      }
                    ],
                    "scatterpolargl": [
                      {
                        "marker": {
                          "colorbar": {
                            "outlinewidth": 0,
                            "ticks": ""
                          }
                        },
                        "type": "scatterpolargl"
                      }
                    ],
                    "scatterternary": [
                      {
                        "marker": {
                          "colorbar": {
                            "outlinewidth": 0,
                            "ticks": ""
                          }
                        },
                        "type": "scatterternary"
                      }
                    ],
                    "surface": [
                      {
                        "colorbar": {
                          "outlinewidth": 0,
                          "ticks": ""
                        },
                        "colorscale": [
                          [
                            0,
                            "#0d0887"
                          ],
                          [
                            0.1111111111111111,
                            "#46039f"
                          ],
                          [
                            0.2222222222222222,
                            "#7201a8"
                          ],
                          [
                            0.3333333333333333,
                            "#9c179e"
                          ],
                          [
                            0.4444444444444444,
                            "#bd3786"
                          ],
                          [
                            0.5555555555555556,
                            "#d8576b"
                          ],
                          [
                            0.6666666666666666,
                            "#ed7953"
                          ],
                          [
                            0.7777777777777778,
                            "#fb9f3a"
                          ],
                          [
                            0.8888888888888888,
                            "#fdca26"
                          ],
                          [
                            1,
                            "#f0f921"
                          ]
                        ],
                        "type": "surface"
                      }
                    ],
                    "table": [
                      {
                        "cells": {
                          "fill": {
                            "color": "#EBF0F8"
                          },
                          "line": {
                            "color": "white"
                          }
                        },
                        "header": {
                          "fill": {
                            "color": "#C8D4E3"
                          },
                          "line": {
                            "color": "white"
                          }
                        },
                        "type": "table"
                      }
                    ]
                  },
                  "layout": {
                    "annotationdefaults": {
                      "arrowcolor": "#2a3f5f",
                      "arrowhead": 0,
                      "arrowwidth": 1
                    },
                    "autotypenumbers": "strict",
                    "coloraxis": {
                      "colorbar": {
                        "outlinewidth": 0,
                        "ticks": ""
                      }
                    },
                    "colorscale": {
                      "diverging": [
                        [
                          0,
                          "#8e0152"
                        ],
                        [
                          0.1,
                          "#c51b7d"
                        ],
                        [
                          0.2,
                          "#de77ae"
                        ],
                        [
                          0.3,
                          "#f1b6da"
                        ],
                        [
                          0.4,
                          "#fde0ef"
                        ],
                        [
                          0.5,
                          "#f7f7f7"
                        ],
                        [
                          0.6,
                          "#e6f5d0"
                        ],
                        [
                          0.7,
                          "#b8e186"
                        ],
                        [
                          0.8,
                          "#7fbc41"
                        ],
                        [
                          0.9,
                          "#4d9221"
                        ],
                        [
                          1,
                          "#276419"
                        ]
                      ],
                      "sequential": [
                        [
                          0,
                          "#0d0887"
                        ],
                        [
                          0.1111111111111111,
                          "#46039f"
                        ],
                        [
                          0.2222222222222222,
                          "#7201a8"
                        ],
                        [
                          0.3333333333333333,
                          "#9c179e"
                        ],
                        [
                          0.4444444444444444,
                          "#bd3786"
                        ],
                        [
                          0.5555555555555556,
                          "#d8576b"
                        ],
                        [
                          0.6666666666666666,
                          "#ed7953"
                        ],
                        [
                          0.7777777777777778,
                          "#fb9f3a"
                        ],
                        [
                          0.8888888888888888,
                          "#fdca26"
                        ],
                        [
                          1,
                          "#f0f921"
                        ]
                      ],
                      "sequentialminus": [
                        [
                          0,
                          "#0d0887"
                        ],
                        [
                          0.1111111111111111,
                          "#46039f"
                        ],
                        [
                          0.2222222222222222,
                          "#7201a8"
                        ],
                        [
                          0.3333333333333333,
                          "#9c179e"
                        ],
                        [
                          0.4444444444444444,
                          "#bd3786"
                        ],
                        [
                          0.5555555555555556,
                          "#d8576b"
                        ],
                        [
                          0.6666666666666666,
                          "#ed7953"
                        ],
                        [
                          0.7777777777777778,
                          "#fb9f3a"
                        ],
                        [
                          0.8888888888888888,
                          "#fdca26"
                        ],
                        [
                          1,
                          "#f0f921"
                        ]
                      ]
                    },
                    "colorway": [
                      "#636efa",
                      "#EF553B",
                      "#00cc96",
                      "#ab63fa",
                      "#FFA15A",
                      "#19d3f3",
                      "#FF6692",
                      "#B6E880",
                      "#FF97FF",
                      "#FECB52"
                    ],
                    "font": {
                      "color": "#2a3f5f"
                    },
                    "geo": {
                      "bgcolor": "white",
                      "lakecolor": "white",
                      "landcolor": "#E5ECF6",
                      "showlakes": true,
                      "showland": true,
                      "subunitcolor": "white"
                    },
                    "hoverlabel": {
                      "align": "left"
                    },
                    "hovermode": "closest",
                    "mapbox": {
                      "style": "light"
                    },
                    "paper_bgcolor": "white",
                    "plot_bgcolor": "#E5ECF6",
                    "polar": {
                      "angularaxis": {
                        "gridcolor": "white",
                        "linecolor": "white",
                        "ticks": ""
                      },
                      "bgcolor": "#E5ECF6",
                      "radialaxis": {
                        "gridcolor": "white",
                        "linecolor": "white",
                        "ticks": ""
                      }
                    },
                    "scene": {
                      "xaxis": {
                        "backgroundcolor": "#E5ECF6",
                        "gridcolor": "white",
                        "gridwidth": 2,
                        "linecolor": "white",
                        "showbackground": true,
                        "ticks": "",
                        "zerolinecolor": "white"
                      },
                      "yaxis": {
                        "backgroundcolor": "#E5ECF6",
                        "gridcolor": "white",
                        "gridwidth": 2,
                        "linecolor": "white",
                        "showbackground": true,
                        "ticks": "",
                        "zerolinecolor": "white"
                      },
                      "zaxis": {
                        "backgroundcolor": "#E5ECF6",
                        "gridcolor": "white",
                        "gridwidth": 2,
                        "linecolor": "white",
                        "showbackground": true,
                        "ticks": "",
                        "zerolinecolor": "white"
                      }
                    },
                    "shapedefaults": {
                      "line": {
                        "color": "#2a3f5f"
                      }
                    },
                    "ternary": {
                      "aaxis": {
                        "gridcolor": "white",
                        "linecolor": "white",
                        "ticks": ""
                      },
                      "baxis": {
                        "gridcolor": "white",
                        "linecolor": "white",
                        "ticks": ""
                      },
                      "bgcolor": "#E5ECF6",
                      "caxis": {
                        "gridcolor": "white",
                        "linecolor": "white",
                        "ticks": ""
                      }
                    },
                    "title": {
                      "x": 0.05
                    },
                    "xaxis": {
                      "automargin": true,
                      "gridcolor": "white",
                      "linecolor": "white",
                      "ticks": "",
                      "title": {
                        "standoff": 15
                      },
                      "zerolinecolor": "white",
                      "zerolinewidth": 2
                    },
                    "yaxis": {
                      "automargin": true,
                      "gridcolor": "white",
                      "linecolor": "white",
                      "ticks": "",
                      "title": {
                        "standoff": 15
                      },
                      "zerolinecolor": "white",
                      "zerolinewidth": 2
                    }
                  }
                },
                "width": 1000,
                "xaxis": {
                  "mirror": "allticks",
                  "rangemode": "tozero",
                  "showgrid": false,
                  "showline": true,
                  "showticklabels": true,
                  "ticks": "outside",
                  "type": "linear",
                  "zeroline": false
                },
                "yaxis": {
                  "mirror": "allticks",
                  "rangemode": "tozero",
                  "showgrid": false,
                  "showline": true,
                  "showticklabels": true,
                  "tickmode": "array",
                  "ticks": "outside",
                  "ticktext": [
                    "9_gmbh_usa_wilmington_llc_athlon",
                    "3_daimler_truck_cedes_mer_hive",
                    "14_nichtfinanzieller_notes_unsere_weitere_konzernabschluss",
                    "24_plantwith_proceedingsin_kapitalflussrechnungcontents_sloveniaromaniachinathailand_malaysiaindiasouth",
                    "37_positionannual_eurosrevenue_prorated_changerevenue_eurosassetsnon",
                    "1_ebit_added_resulted_industrial_flow",
                    "32_billion_prior_amounted_lion_decreased",
                    "10_disposals_days_additions_balance_mature",
                    "41_mount_ible_directive_beps_attributed",
                    "45_hedging_hedges_hedged_commodity_exposure",
                    "15_usd_maturities_currencies_traded_terest",
                    "40_fair_trade_debt_securities_equivalents",
                    "34_contracts_leases_residual_contract_lease",
                    "23_contingent_refund_ias_estimate_unlikely",
                    "42_tax_deferred_generating_allowances_losses",
                    "25_pension_plan_benefit_post_benefits",
                    "16_filed_lawsuits_court_kba_diesel",
                    "18_road_automation_assistance_phases_requests",
                    "8_proceedings_regulatory_authorities_control_regulations",
                    "17_exposed_medium_rating_opportunities_creditworthiness",
                    "21_historical_forecasts_parameters_expenditures_checked",
                    "46_growth_outlook_economy_prices_sales",
                    "4_fleet_union_electrified_europe_neutral",
                    "39_brand_digital_transformation_luxury_customers",
                    "20_power_charging_water_electricity_sources",
                    "33_taxonomy_activity_aligned_delegated_dnsh",
                    "49_materials_esg_procurement_sustainability_chains",
                    "13_safety_employees_human_principles_waste",
                    "7_cms_integrity_compliance_diligence_cyber",
                    "11_problem_preven_correct_ergonomic_issuesthe",
                    "35_bodies_collective_pose_bargaining_languages",
                    "19_qualification_inclusion_courses_diversity_training",
                    "2_auditor_audit_appropriation_proposal_interim",
                    "47_disclosures_ted_ate_consolida_opinions",
                    "44_esef_assurance_paragraph_documents_electronic",
                    "36_declarationannual_governanceannual_declaration_contents_information",
                    "30_preserve_principlesexpectations_sourced_objec_inten",
                    "27_ceo_plays_initiatives_backdrop_teamsustainability",
                    "48_expertise_martin_bernd_roman_quota",
                    "12_board_supervisory_remuneration_meetings_elected",
                    "43_council_jungo_renata_steering_coordination",
                    "38_pursuant_subsection_act_majority_mandates",
                    "26_authorization_consent_subscription_ppsp_achievement",
                    "6_shares_treasury_buyback_ventures_acquire",
                    "31_netting_structured_arrangement_master_permitted",
                    "22_depreciation_overheads_depreciable_mated_implifica",
                    "29_nance_prove_severally_appraisal_subsections",
                    "5_door_navigation_maps_fitch_dbrs",
                    "28_generation_gradually_cycles_folio_driverless",
                    "0_intermediate_criterion_slowdown_flare_crises"
                  ],
                  "tickvals": [
                    -5,
                    -15,
                    -25,
                    -35,
                    -45,
                    -55,
                    -65,
                    -75,
                    -85,
                    -95,
                    -105,
                    -115,
                    -125,
                    -135,
                    -145,
                    -155,
                    -165,
                    -175,
                    -185,
                    -195,
                    -205,
                    -215,
                    -225,
                    -235,
                    -245,
                    -255,
                    -265,
                    -275,
                    -285,
                    -295,
                    -305,
                    -315,
                    -325,
                    -335,
                    -345,
                    -355,
                    -365,
                    -375,
                    -385,
                    -395,
                    -405,
                    -415,
                    -425,
                    -435,
                    -445,
                    -455,
                    -465,
                    -475,
                    -485,
                    -495
                  ],
                  "type": "linear",
                  "zeroline": false
                }
              }
            }
          },
          "metadata": {},
          "output_type": "display_data"
        }
      ],
      "source": [
        "fig = model.visualize_topic_hierarchy()\n",
        "fig.show()"
      ]
    },
    {
      "cell_type": "markdown",
      "metadata": {
        "id": "-vup5inkQE29"
      },
      "source": [
        "## Visualize topic weights\n",
        "\n",
        "We plot the weights of topics in the given dataset."
      ]
    },
    {
      "cell_type": "code",
      "execution_count": 12,
      "metadata": {
        "colab": {
          "base_uri": "https://localhost:8080/",
          "height": 517
        },
        "id": "3RsOsY5MQE29",
        "outputId": "730a2c3d-bf67-405f-9beb-9aef79c21029"
      },
      "outputs": [
        {
          "data": {
            "application/vnd.plotly.v1+json": {
              "config": {
                "plotlyServerURL": "https://plot.ly"
              },
              "data": [
                {
                  "marker": {
                    "color": "#C8D2D7",
                    "line": {
                      "color": "#6E8484",
                      "width": 1
                    }
                  },
                  "orientation": "h",
                  "type": "bar",
                  "x": [
                    0.01806107722222805,
                    0.019830305129289627,
                    0.02069283090531826,
                    0.022435108199715614,
                    0.02327231504023075,
                    0.023743072524666786,
                    0.024881688877940178,
                    0.027228113263845444,
                    0.027674445882439613,
                    0.029140137135982513,
                    0.02959112450480461,
                    0.030233968049287796,
                    0.030406134203076363,
                    0.030642187222838402,
                    0.031767431646585464,
                    0.03232733905315399,
                    0.03389863669872284,
                    0.03529736399650574,
                    0.035411227494478226,
                    0.03755383566021919
                  ],
                  "y": [
                    "17_exposed_medium_rating_opportunities_creditworthiness",
                    "33_taxonomy_activity_aligned_delegated_dnsh",
                    "24_plantwith_proceedingsin_kapitalflussrechnungcontents_sloveniaromaniachinathailand_malaysiaindiasouth",
                    "49_materials_esg_procurement_sustainability_chains",
                    "4_fleet_union_electrified_europe_neutral",
                    "47_disclosures_ted_ate_consolida_opinions",
                    "6_shares_treasury_buyback_ventures_acquire",
                    "32_billion_prior_amounted_lion_decreased",
                    "3_daimler_truck_cedes_mer_hive",
                    "42_tax_deferred_generating_allowances_losses",
                    "39_brand_digital_transformation_luxury_customers",
                    "12_board_supervisory_remuneration_meetings_elected",
                    "46_growth_outlook_economy_prices_sales",
                    "1_ebit_added_resulted_industrial_flow",
                    "8_proceedings_regulatory_authorities_control_regulations",
                    "40_fair_trade_debt_securities_equivalents",
                    "34_contracts_leases_residual_contract_lease",
                    "13_safety_employees_human_principles_waste",
                    "14_nichtfinanzieller_notes_unsere_weitere_konzernabschluss",
                    "36_declarationannual_governanceannual_declaration_contents_information"
                  ]
                }
              ],
              "layout": {
                "height": 500,
                "hoverlabel": {
                  "bgcolor": "white",
                  "font": {
                    "family": "Rockwell",
                    "size": 16
                  }
                },
                "template": {
                  "data": {
                    "bar": [
                      {
                        "error_x": {
                          "color": "rgb(36,36,36)"
                        },
                        "error_y": {
                          "color": "rgb(36,36,36)"
                        },
                        "marker": {
                          "line": {
                            "color": "white",
                            "width": 0.5
                          },
                          "pattern": {
                            "fillmode": "overlay",
                            "size": 10,
                            "solidity": 0.2
                          }
                        },
                        "type": "bar"
                      }
                    ],
                    "barpolar": [
                      {
                        "marker": {
                          "line": {
                            "color": "white",
                            "width": 0.5
                          },
                          "pattern": {
                            "fillmode": "overlay",
                            "size": 10,
                            "solidity": 0.2
                          }
                        },
                        "type": "barpolar"
                      }
                    ],
                    "carpet": [
                      {
                        "aaxis": {
                          "endlinecolor": "rgb(36,36,36)",
                          "gridcolor": "white",
                          "linecolor": "white",
                          "minorgridcolor": "white",
                          "startlinecolor": "rgb(36,36,36)"
                        },
                        "baxis": {
                          "endlinecolor": "rgb(36,36,36)",
                          "gridcolor": "white",
                          "linecolor": "white",
                          "minorgridcolor": "white",
                          "startlinecolor": "rgb(36,36,36)"
                        },
                        "type": "carpet"
                      }
                    ],
                    "choropleth": [
                      {
                        "colorbar": {
                          "outlinewidth": 1,
                          "tickcolor": "rgb(36,36,36)",
                          "ticks": "outside"
                        },
                        "type": "choropleth"
                      }
                    ],
                    "contour": [
                      {
                        "colorbar": {
                          "outlinewidth": 1,
                          "tickcolor": "rgb(36,36,36)",
                          "ticks": "outside"
                        },
                        "colorscale": [
                          [
                            0,
                            "#440154"
                          ],
                          [
                            0.1111111111111111,
                            "#482878"
                          ],
                          [
                            0.2222222222222222,
                            "#3e4989"
                          ],
                          [
                            0.3333333333333333,
                            "#31688e"
                          ],
                          [
                            0.4444444444444444,
                            "#26828e"
                          ],
                          [
                            0.5555555555555556,
                            "#1f9e89"
                          ],
                          [
                            0.6666666666666666,
                            "#35b779"
                          ],
                          [
                            0.7777777777777778,
                            "#6ece58"
                          ],
                          [
                            0.8888888888888888,
                            "#b5de2b"
                          ],
                          [
                            1,
                            "#fde725"
                          ]
                        ],
                        "type": "contour"
                      }
                    ],
                    "contourcarpet": [
                      {
                        "colorbar": {
                          "outlinewidth": 1,
                          "tickcolor": "rgb(36,36,36)",
                          "ticks": "outside"
                        },
                        "type": "contourcarpet"
                      }
                    ],
                    "heatmap": [
                      {
                        "colorbar": {
                          "outlinewidth": 1,
                          "tickcolor": "rgb(36,36,36)",
                          "ticks": "outside"
                        },
                        "colorscale": [
                          [
                            0,
                            "#440154"
                          ],
                          [
                            0.1111111111111111,
                            "#482878"
                          ],
                          [
                            0.2222222222222222,
                            "#3e4989"
                          ],
                          [
                            0.3333333333333333,
                            "#31688e"
                          ],
                          [
                            0.4444444444444444,
                            "#26828e"
                          ],
                          [
                            0.5555555555555556,
                            "#1f9e89"
                          ],
                          [
                            0.6666666666666666,
                            "#35b779"
                          ],
                          [
                            0.7777777777777778,
                            "#6ece58"
                          ],
                          [
                            0.8888888888888888,
                            "#b5de2b"
                          ],
                          [
                            1,
                            "#fde725"
                          ]
                        ],
                        "type": "heatmap"
                      }
                    ],
                    "histogram": [
                      {
                        "marker": {
                          "line": {
                            "color": "white",
                            "width": 0.6
                          }
                        },
                        "type": "histogram"
                      }
                    ],
                    "histogram2d": [
                      {
                        "colorbar": {
                          "outlinewidth": 1,
                          "tickcolor": "rgb(36,36,36)",
                          "ticks": "outside"
                        },
                        "colorscale": [
                          [
                            0,
                            "#440154"
                          ],
                          [
                            0.1111111111111111,
                            "#482878"
                          ],
                          [
                            0.2222222222222222,
                            "#3e4989"
                          ],
                          [
                            0.3333333333333333,
                            "#31688e"
                          ],
                          [
                            0.4444444444444444,
                            "#26828e"
                          ],
                          [
                            0.5555555555555556,
                            "#1f9e89"
                          ],
                          [
                            0.6666666666666666,
                            "#35b779"
                          ],
                          [
                            0.7777777777777778,
                            "#6ece58"
                          ],
                          [
                            0.8888888888888888,
                            "#b5de2b"
                          ],
                          [
                            1,
                            "#fde725"
                          ]
                        ],
                        "type": "histogram2d"
                      }
                    ],
                    "histogram2dcontour": [
                      {
                        "colorbar": {
                          "outlinewidth": 1,
                          "tickcolor": "rgb(36,36,36)",
                          "ticks": "outside"
                        },
                        "colorscale": [
                          [
                            0,
                            "#440154"
                          ],
                          [
                            0.1111111111111111,
                            "#482878"
                          ],
                          [
                            0.2222222222222222,
                            "#3e4989"
                          ],
                          [
                            0.3333333333333333,
                            "#31688e"
                          ],
                          [
                            0.4444444444444444,
                            "#26828e"
                          ],
                          [
                            0.5555555555555556,
                            "#1f9e89"
                          ],
                          [
                            0.6666666666666666,
                            "#35b779"
                          ],
                          [
                            0.7777777777777778,
                            "#6ece58"
                          ],
                          [
                            0.8888888888888888,
                            "#b5de2b"
                          ],
                          [
                            1,
                            "#fde725"
                          ]
                        ],
                        "type": "histogram2dcontour"
                      }
                    ],
                    "mesh3d": [
                      {
                        "colorbar": {
                          "outlinewidth": 1,
                          "tickcolor": "rgb(36,36,36)",
                          "ticks": "outside"
                        },
                        "type": "mesh3d"
                      }
                    ],
                    "parcoords": [
                      {
                        "line": {
                          "colorbar": {
                            "outlinewidth": 1,
                            "tickcolor": "rgb(36,36,36)",
                            "ticks": "outside"
                          }
                        },
                        "type": "parcoords"
                      }
                    ],
                    "pie": [
                      {
                        "automargin": true,
                        "type": "pie"
                      }
                    ],
                    "scatter": [
                      {
                        "fillpattern": {
                          "fillmode": "overlay",
                          "size": 10,
                          "solidity": 0.2
                        },
                        "type": "scatter"
                      }
                    ],
                    "scatter3d": [
                      {
                        "line": {
                          "colorbar": {
                            "outlinewidth": 1,
                            "tickcolor": "rgb(36,36,36)",
                            "ticks": "outside"
                          }
                        },
                        "marker": {
                          "colorbar": {
                            "outlinewidth": 1,
                            "tickcolor": "rgb(36,36,36)",
                            "ticks": "outside"
                          }
                        },
                        "type": "scatter3d"
                      }
                    ],
                    "scattercarpet": [
                      {
                        "marker": {
                          "colorbar": {
                            "outlinewidth": 1,
                            "tickcolor": "rgb(36,36,36)",
                            "ticks": "outside"
                          }
                        },
                        "type": "scattercarpet"
                      }
                    ],
                    "scattergeo": [
                      {
                        "marker": {
                          "colorbar": {
                            "outlinewidth": 1,
                            "tickcolor": "rgb(36,36,36)",
                            "ticks": "outside"
                          }
                        },
                        "type": "scattergeo"
                      }
                    ],
                    "scattergl": [
                      {
                        "marker": {
                          "colorbar": {
                            "outlinewidth": 1,
                            "tickcolor": "rgb(36,36,36)",
                            "ticks": "outside"
                          }
                        },
                        "type": "scattergl"
                      }
                    ],
                    "scattermap": [
                      {
                        "marker": {
                          "colorbar": {
                            "outlinewidth": 1,
                            "tickcolor": "rgb(36,36,36)",
                            "ticks": "outside"
                          }
                        },
                        "type": "scattermap"
                      }
                    ],
                    "scattermapbox": [
                      {
                        "marker": {
                          "colorbar": {
                            "outlinewidth": 1,
                            "tickcolor": "rgb(36,36,36)",
                            "ticks": "outside"
                          }
                        },
                        "type": "scattermapbox"
                      }
                    ],
                    "scatterpolar": [
                      {
                        "marker": {
                          "colorbar": {
                            "outlinewidth": 1,
                            "tickcolor": "rgb(36,36,36)",
                            "ticks": "outside"
                          }
                        },
                        "type": "scatterpolar"
                      }
                    ],
                    "scatterpolargl": [
                      {
                        "marker": {
                          "colorbar": {
                            "outlinewidth": 1,
                            "tickcolor": "rgb(36,36,36)",
                            "ticks": "outside"
                          }
                        },
                        "type": "scatterpolargl"
                      }
                    ],
                    "scatterternary": [
                      {
                        "marker": {
                          "colorbar": {
                            "outlinewidth": 1,
                            "tickcolor": "rgb(36,36,36)",
                            "ticks": "outside"
                          }
                        },
                        "type": "scatterternary"
                      }
                    ],
                    "surface": [
                      {
                        "colorbar": {
                          "outlinewidth": 1,
                          "tickcolor": "rgb(36,36,36)",
                          "ticks": "outside"
                        },
                        "colorscale": [
                          [
                            0,
                            "#440154"
                          ],
                          [
                            0.1111111111111111,
                            "#482878"
                          ],
                          [
                            0.2222222222222222,
                            "#3e4989"
                          ],
                          [
                            0.3333333333333333,
                            "#31688e"
                          ],
                          [
                            0.4444444444444444,
                            "#26828e"
                          ],
                          [
                            0.5555555555555556,
                            "#1f9e89"
                          ],
                          [
                            0.6666666666666666,
                            "#35b779"
                          ],
                          [
                            0.7777777777777778,
                            "#6ece58"
                          ],
                          [
                            0.8888888888888888,
                            "#b5de2b"
                          ],
                          [
                            1,
                            "#fde725"
                          ]
                        ],
                        "type": "surface"
                      }
                    ],
                    "table": [
                      {
                        "cells": {
                          "fill": {
                            "color": "rgb(237,237,237)"
                          },
                          "line": {
                            "color": "white"
                          }
                        },
                        "header": {
                          "fill": {
                            "color": "rgb(217,217,217)"
                          },
                          "line": {
                            "color": "white"
                          }
                        },
                        "type": "table"
                      }
                    ]
                  },
                  "layout": {
                    "annotationdefaults": {
                      "arrowhead": 0,
                      "arrowwidth": 1
                    },
                    "autotypenumbers": "strict",
                    "coloraxis": {
                      "colorbar": {
                        "outlinewidth": 1,
                        "tickcolor": "rgb(36,36,36)",
                        "ticks": "outside"
                      }
                    },
                    "colorscale": {
                      "diverging": [
                        [
                          0,
                          "rgb(103,0,31)"
                        ],
                        [
                          0.1,
                          "rgb(178,24,43)"
                        ],
                        [
                          0.2,
                          "rgb(214,96,77)"
                        ],
                        [
                          0.3,
                          "rgb(244,165,130)"
                        ],
                        [
                          0.4,
                          "rgb(253,219,199)"
                        ],
                        [
                          0.5,
                          "rgb(247,247,247)"
                        ],
                        [
                          0.6,
                          "rgb(209,229,240)"
                        ],
                        [
                          0.7,
                          "rgb(146,197,222)"
                        ],
                        [
                          0.8,
                          "rgb(67,147,195)"
                        ],
                        [
                          0.9,
                          "rgb(33,102,172)"
                        ],
                        [
                          1,
                          "rgb(5,48,97)"
                        ]
                      ],
                      "sequential": [
                        [
                          0,
                          "#440154"
                        ],
                        [
                          0.1111111111111111,
                          "#482878"
                        ],
                        [
                          0.2222222222222222,
                          "#3e4989"
                        ],
                        [
                          0.3333333333333333,
                          "#31688e"
                        ],
                        [
                          0.4444444444444444,
                          "#26828e"
                        ],
                        [
                          0.5555555555555556,
                          "#1f9e89"
                        ],
                        [
                          0.6666666666666666,
                          "#35b779"
                        ],
                        [
                          0.7777777777777778,
                          "#6ece58"
                        ],
                        [
                          0.8888888888888888,
                          "#b5de2b"
                        ],
                        [
                          1,
                          "#fde725"
                        ]
                      ],
                      "sequentialminus": [
                        [
                          0,
                          "#440154"
                        ],
                        [
                          0.1111111111111111,
                          "#482878"
                        ],
                        [
                          0.2222222222222222,
                          "#3e4989"
                        ],
                        [
                          0.3333333333333333,
                          "#31688e"
                        ],
                        [
                          0.4444444444444444,
                          "#26828e"
                        ],
                        [
                          0.5555555555555556,
                          "#1f9e89"
                        ],
                        [
                          0.6666666666666666,
                          "#35b779"
                        ],
                        [
                          0.7777777777777778,
                          "#6ece58"
                        ],
                        [
                          0.8888888888888888,
                          "#b5de2b"
                        ],
                        [
                          1,
                          "#fde725"
                        ]
                      ]
                    },
                    "colorway": [
                      "#1F77B4",
                      "#FF7F0E",
                      "#2CA02C",
                      "#D62728",
                      "#9467BD",
                      "#8C564B",
                      "#E377C2",
                      "#7F7F7F",
                      "#BCBD22",
                      "#17BECF"
                    ],
                    "font": {
                      "color": "rgb(36,36,36)"
                    },
                    "geo": {
                      "bgcolor": "white",
                      "lakecolor": "white",
                      "landcolor": "white",
                      "showlakes": true,
                      "showland": true,
                      "subunitcolor": "white"
                    },
                    "hoverlabel": {
                      "align": "left"
                    },
                    "hovermode": "closest",
                    "mapbox": {
                      "style": "light"
                    },
                    "paper_bgcolor": "white",
                    "plot_bgcolor": "white",
                    "polar": {
                      "angularaxis": {
                        "gridcolor": "rgb(232,232,232)",
                        "linecolor": "rgb(36,36,36)",
                        "showgrid": false,
                        "showline": true,
                        "ticks": "outside"
                      },
                      "bgcolor": "white",
                      "radialaxis": {
                        "gridcolor": "rgb(232,232,232)",
                        "linecolor": "rgb(36,36,36)",
                        "showgrid": false,
                        "showline": true,
                        "ticks": "outside"
                      }
                    },
                    "scene": {
                      "xaxis": {
                        "backgroundcolor": "white",
                        "gridcolor": "rgb(232,232,232)",
                        "gridwidth": 2,
                        "linecolor": "rgb(36,36,36)",
                        "showbackground": true,
                        "showgrid": false,
                        "showline": true,
                        "ticks": "outside",
                        "zeroline": false,
                        "zerolinecolor": "rgb(36,36,36)"
                      },
                      "yaxis": {
                        "backgroundcolor": "white",
                        "gridcolor": "rgb(232,232,232)",
                        "gridwidth": 2,
                        "linecolor": "rgb(36,36,36)",
                        "showbackground": true,
                        "showgrid": false,
                        "showline": true,
                        "ticks": "outside",
                        "zeroline": false,
                        "zerolinecolor": "rgb(36,36,36)"
                      },
                      "zaxis": {
                        "backgroundcolor": "white",
                        "gridcolor": "rgb(232,232,232)",
                        "gridwidth": 2,
                        "linecolor": "rgb(36,36,36)",
                        "showbackground": true,
                        "showgrid": false,
                        "showline": true,
                        "ticks": "outside",
                        "zeroline": false,
                        "zerolinecolor": "rgb(36,36,36)"
                      }
                    },
                    "shapedefaults": {
                      "fillcolor": "black",
                      "line": {
                        "width": 0
                      },
                      "opacity": 0.3
                    },
                    "ternary": {
                      "aaxis": {
                        "gridcolor": "rgb(232,232,232)",
                        "linecolor": "rgb(36,36,36)",
                        "showgrid": false,
                        "showline": true,
                        "ticks": "outside"
                      },
                      "baxis": {
                        "gridcolor": "rgb(232,232,232)",
                        "linecolor": "rgb(36,36,36)",
                        "showgrid": false,
                        "showline": true,
                        "ticks": "outside"
                      },
                      "bgcolor": "white",
                      "caxis": {
                        "gridcolor": "rgb(232,232,232)",
                        "linecolor": "rgb(36,36,36)",
                        "showgrid": false,
                        "showline": true,
                        "ticks": "outside"
                      }
                    },
                    "title": {
                      "x": 0.05
                    },
                    "xaxis": {
                      "automargin": true,
                      "gridcolor": "rgb(232,232,232)",
                      "linecolor": "rgb(36,36,36)",
                      "showgrid": false,
                      "showline": true,
                      "ticks": "outside",
                      "title": {
                        "standoff": 15
                      },
                      "zeroline": false,
                      "zerolinecolor": "rgb(36,36,36)"
                    },
                    "yaxis": {
                      "automargin": true,
                      "gridcolor": "rgb(232,232,232)",
                      "linecolor": "rgb(36,36,36)",
                      "showgrid": false,
                      "showline": true,
                      "ticks": "outside",
                      "title": {
                        "standoff": 15
                      },
                      "zeroline": false,
                      "zerolinecolor": "rgb(36,36,36)"
                    }
                  }
                },
                "title": {
                  "font": {
                    "color": "Black",
                    "size": 22
                  },
                  "text": "<b>Topic Weights</b>",
                  "x": 0.5,
                  "xanchor": "center",
                  "y": 0.95,
                  "yanchor": "top"
                },
                "width": 1000,
                "xaxis": {
                  "title": {
                    "text": "Weight"
                  }
                }
              }
            }
          },
          "metadata": {},
          "output_type": "display_data"
        }
      ],
      "source": [
        "fig = model.visualize_topic_weights(top_n=20, height=500)\n",
        "fig.show()"
      ]
    },
    {
      "cell_type": "markdown",
      "metadata": {
        "id": "fxEh8Ls1QE29"
      },
      "source": [
        "## Get topic activity over time\n",
        "\n",
        "\n",
        "Topic activity refers to the weight of a topic at a time slice.\n",
        "We additionally input the time slices of documents, `time_slices` to compute and plot topic activity over time.\n"
      ]
    },
    {
      "cell_type": "code",
      "execution_count": 15,
      "metadata": {
        "colab": {
          "base_uri": "https://localhost:8080/",
          "height": 617
        },
        "id": "O33aprmBQE2-",
        "outputId": "cb6f9189-5feb-45f0-8054-f53681637404"
      },
      "outputs": [
        {
          "ename": "AssertionError",
          "evalue": "",
          "output_type": "error",
          "traceback": [
            "\u001b[0;31m---------------------------------------------------------------------------\u001b[0m",
            "\u001b[0;31mAssertionError\u001b[0m                            Traceback (most recent call last)",
            "Cell \u001b[0;32mIn[15], line 2\u001b[0m\n\u001b[1;32m      1\u001b[0m time_slices \u001b[38;5;241m=\u001b[39m dataset\u001b[38;5;241m.\u001b[39mtrain_times\n\u001b[0;32m----> 2\u001b[0m act \u001b[38;5;241m=\u001b[39m \u001b[43mmodel\u001b[49m\u001b[38;5;241;43m.\u001b[39;49m\u001b[43mtopic_activity_over_time\u001b[49m\u001b[43m(\u001b[49m\u001b[43mtime_slices\u001b[49m\u001b[43m)\u001b[49m\n\u001b[1;32m      3\u001b[0m fig \u001b[38;5;241m=\u001b[39m model\u001b[38;5;241m.\u001b[39mvisualize_topic_activity(top_n\u001b[38;5;241m=\u001b[39m\u001b[38;5;241m6\u001b[39m, topic_activity\u001b[38;5;241m=\u001b[39mact, time_slices\u001b[38;5;241m=\u001b[39mtime_slices)\n\u001b[1;32m      4\u001b[0m fig\u001b[38;5;241m.\u001b[39mshow()\n",
            "File \u001b[0;32m~/miniconda3/envs/remedi/lib/python3.10/site-packages/fastopic/FASTopic.py:388\u001b[0m, in \u001b[0;36mFASTopic.topic_activity_over_time\u001b[0;34m(self, time_slices)\u001b[0m\n\u001b[1;32m    385\u001b[0m topic_activity \u001b[38;5;241m=\u001b[39m \u001b[38;5;28mself\u001b[39m\u001b[38;5;241m.\u001b[39mtransp_DT\n\u001b[1;32m    386\u001b[0m topic_activity \u001b[38;5;241m*\u001b[39m\u001b[38;5;241m=\u001b[39m \u001b[38;5;28mself\u001b[39m\u001b[38;5;241m.\u001b[39mtransp_DT\u001b[38;5;241m.\u001b[39mshape[\u001b[38;5;241m0\u001b[39m]\n\u001b[0;32m--> 388\u001b[0m \u001b[38;5;28;01massert\u001b[39;00m \u001b[38;5;28mlen\u001b[39m(time_slices) \u001b[38;5;241m==\u001b[39m topic_activity\u001b[38;5;241m.\u001b[39mshape[\u001b[38;5;241m0\u001b[39m]\n\u001b[1;32m    390\u001b[0m df \u001b[38;5;241m=\u001b[39m pd\u001b[38;5;241m.\u001b[39mDataFrame(topic_activity)\n\u001b[1;32m    391\u001b[0m df[\u001b[38;5;124m'\u001b[39m\u001b[38;5;124mtime_slices\u001b[39m\u001b[38;5;124m'\u001b[39m] \u001b[38;5;241m=\u001b[39m time_slices\n",
            "\u001b[0;31mAssertionError\u001b[0m: "
          ]
        }
      ],
      "source": [
        "time_slices = dataset.train_times\n",
        "act = model.topic_activity_over_time(time_slices)\n",
        "fig = model.visualize_topic_activity(top_n=6, topic_activity=act, time_slices=time_slices)\n",
        "fig.show()"
      ]
    },
    {
      "cell_type": "code",
      "execution_count": null,
      "metadata": {},
      "outputs": [],
      "source": []
    }
  ],
  "metadata": {
    "accelerator": "GPU",
    "colab": {
      "gpuType": "T4",
      "provenance": []
    },
    "kernelspec": {
      "display_name": "remedi",
      "language": "python",
      "name": "python3"
    },
    "language_info": {
      "codemirror_mode": {
        "name": "ipython",
        "version": 3
      },
      "file_extension": ".py",
      "mimetype": "text/x-python",
      "name": "python",
      "nbconvert_exporter": "python",
      "pygments_lexer": "ipython3",
      "version": "3.10.14"
    },
    "widgets": {
      "application/vnd.jupyter.widget-state+json": {
        "3327a46f390445e58df80b7c3966600c": {
          "model_module": "@jupyter-widgets/base",
          "model_module_version": "1.2.0",
          "model_name": "LayoutModel",
          "state": {
            "_model_module": "@jupyter-widgets/base",
            "_model_module_version": "1.2.0",
            "_model_name": "LayoutModel",
            "_view_count": null,
            "_view_module": "@jupyter-widgets/base",
            "_view_module_version": "1.2.0",
            "_view_name": "LayoutView",
            "align_content": null,
            "align_items": null,
            "align_self": null,
            "border": null,
            "bottom": null,
            "display": null,
            "flex": null,
            "flex_flow": null,
            "grid_area": null,
            "grid_auto_columns": null,
            "grid_auto_flow": null,
            "grid_auto_rows": null,
            "grid_column": null,
            "grid_gap": null,
            "grid_row": null,
            "grid_template_areas": null,
            "grid_template_columns": null,
            "grid_template_rows": null,
            "height": null,
            "justify_content": null,
            "justify_items": null,
            "left": null,
            "margin": null,
            "max_height": null,
            "max_width": null,
            "min_height": null,
            "min_width": null,
            "object_fit": null,
            "object_position": null,
            "order": null,
            "overflow": null,
            "overflow_x": null,
            "overflow_y": null,
            "padding": null,
            "right": null,
            "top": null,
            "visibility": null,
            "width": null
          }
        },
        "35520d194b7d419ba6c0f4fda43fa1c3": {
          "model_module": "@jupyter-widgets/controls",
          "model_module_version": "1.5.0",
          "model_name": "HTMLModel",
          "state": {
            "_dom_classes": [],
            "_model_module": "@jupyter-widgets/controls",
            "_model_module_version": "1.5.0",
            "_model_name": "HTMLModel",
            "_view_count": null,
            "_view_module": "@jupyter-widgets/controls",
            "_view_module_version": "1.5.0",
            "_view_name": "HTMLView",
            "description": "",
            "description_tooltip": null,
            "layout": "IPY_MODEL_fd3a5d754a634d44912349cc050f28ed",
            "placeholder": "​",
            "style": "IPY_MODEL_6a735a4cccc1411cb2f3e255a1ac7ae9",
            "value": " 258/258 [00:18&lt;00:00, 31.18it/s]"
          }
        },
        "37ecc18e438b4517a3ac2a0dff499571": {
          "model_module": "@jupyter-widgets/controls",
          "model_module_version": "1.5.0",
          "model_name": "ProgressStyleModel",
          "state": {
            "_model_module": "@jupyter-widgets/controls",
            "_model_module_version": "1.5.0",
            "_model_name": "ProgressStyleModel",
            "_view_count": null,
            "_view_module": "@jupyter-widgets/base",
            "_view_module_version": "1.2.0",
            "_view_name": "StyleView",
            "bar_color": null,
            "description_width": ""
          }
        },
        "3f55bd5386fa4e9189d9b9b811695090": {
          "model_module": "@jupyter-widgets/base",
          "model_module_version": "1.2.0",
          "model_name": "LayoutModel",
          "state": {
            "_model_module": "@jupyter-widgets/base",
            "_model_module_version": "1.2.0",
            "_model_name": "LayoutModel",
            "_view_count": null,
            "_view_module": "@jupyter-widgets/base",
            "_view_module_version": "1.2.0",
            "_view_name": "LayoutView",
            "align_content": null,
            "align_items": null,
            "align_self": null,
            "border": null,
            "bottom": null,
            "display": null,
            "flex": null,
            "flex_flow": null,
            "grid_area": null,
            "grid_auto_columns": null,
            "grid_auto_flow": null,
            "grid_auto_rows": null,
            "grid_column": null,
            "grid_gap": null,
            "grid_row": null,
            "grid_template_areas": null,
            "grid_template_columns": null,
            "grid_template_rows": null,
            "height": null,
            "justify_content": null,
            "justify_items": null,
            "left": null,
            "margin": null,
            "max_height": null,
            "max_width": null,
            "min_height": null,
            "min_width": null,
            "object_fit": null,
            "object_position": null,
            "order": null,
            "overflow": null,
            "overflow_x": null,
            "overflow_y": null,
            "padding": null,
            "right": null,
            "top": null,
            "visibility": null,
            "width": null
          }
        },
        "5ded9d37a4f3446d830edf9e7f142c8c": {
          "model_module": "@jupyter-widgets/controls",
          "model_module_version": "1.5.0",
          "model_name": "DescriptionStyleModel",
          "state": {
            "_model_module": "@jupyter-widgets/controls",
            "_model_module_version": "1.5.0",
            "_model_name": "DescriptionStyleModel",
            "_view_count": null,
            "_view_module": "@jupyter-widgets/base",
            "_view_module_version": "1.2.0",
            "_view_name": "StyleView",
            "description_width": ""
          }
        },
        "67af1d98db294f418f9c0ad18eb51180": {
          "model_module": "@jupyter-widgets/controls",
          "model_module_version": "1.5.0",
          "model_name": "HBoxModel",
          "state": {
            "_dom_classes": [],
            "_model_module": "@jupyter-widgets/controls",
            "_model_module_version": "1.5.0",
            "_model_name": "HBoxModel",
            "_view_count": null,
            "_view_module": "@jupyter-widgets/controls",
            "_view_module_version": "1.5.0",
            "_view_name": "HBoxView",
            "box_style": "",
            "children": [
              "IPY_MODEL_e52887b240374d558f728c4e7393bc61",
              "IPY_MODEL_8c7f9756b6e64ff4a6bb98cf965b27fb",
              "IPY_MODEL_35520d194b7d419ba6c0f4fda43fa1c3"
            ],
            "layout": "IPY_MODEL_822d27e053d44f6a88dd3f184a5e4627"
          }
        },
        "6a735a4cccc1411cb2f3e255a1ac7ae9": {
          "model_module": "@jupyter-widgets/controls",
          "model_module_version": "1.5.0",
          "model_name": "DescriptionStyleModel",
          "state": {
            "_model_module": "@jupyter-widgets/controls",
            "_model_module_version": "1.5.0",
            "_model_name": "DescriptionStyleModel",
            "_view_count": null,
            "_view_module": "@jupyter-widgets/base",
            "_view_module_version": "1.2.0",
            "_view_name": "StyleView",
            "description_width": ""
          }
        },
        "822d27e053d44f6a88dd3f184a5e4627": {
          "model_module": "@jupyter-widgets/base",
          "model_module_version": "1.2.0",
          "model_name": "LayoutModel",
          "state": {
            "_model_module": "@jupyter-widgets/base",
            "_model_module_version": "1.2.0",
            "_model_name": "LayoutModel",
            "_view_count": null,
            "_view_module": "@jupyter-widgets/base",
            "_view_module_version": "1.2.0",
            "_view_name": "LayoutView",
            "align_content": null,
            "align_items": null,
            "align_self": null,
            "border": null,
            "bottom": null,
            "display": null,
            "flex": null,
            "flex_flow": null,
            "grid_area": null,
            "grid_auto_columns": null,
            "grid_auto_flow": null,
            "grid_auto_rows": null,
            "grid_column": null,
            "grid_gap": null,
            "grid_row": null,
            "grid_template_areas": null,
            "grid_template_columns": null,
            "grid_template_rows": null,
            "height": null,
            "justify_content": null,
            "justify_items": null,
            "left": null,
            "margin": null,
            "max_height": null,
            "max_width": null,
            "min_height": null,
            "min_width": null,
            "object_fit": null,
            "object_position": null,
            "order": null,
            "overflow": null,
            "overflow_x": null,
            "overflow_y": null,
            "padding": null,
            "right": null,
            "top": null,
            "visibility": null,
            "width": null
          }
        },
        "8c7f9756b6e64ff4a6bb98cf965b27fb": {
          "model_module": "@jupyter-widgets/controls",
          "model_module_version": "1.5.0",
          "model_name": "FloatProgressModel",
          "state": {
            "_dom_classes": [],
            "_model_module": "@jupyter-widgets/controls",
            "_model_module_version": "1.5.0",
            "_model_name": "FloatProgressModel",
            "_view_count": null,
            "_view_module": "@jupyter-widgets/controls",
            "_view_module_version": "1.5.0",
            "_view_name": "ProgressView",
            "bar_style": "success",
            "description": "",
            "description_tooltip": null,
            "layout": "IPY_MODEL_3327a46f390445e58df80b7c3966600c",
            "max": 258,
            "min": 0,
            "orientation": "horizontal",
            "style": "IPY_MODEL_37ecc18e438b4517a3ac2a0dff499571",
            "value": 258
          }
        },
        "e52887b240374d558f728c4e7393bc61": {
          "model_module": "@jupyter-widgets/controls",
          "model_module_version": "1.5.0",
          "model_name": "HTMLModel",
          "state": {
            "_dom_classes": [],
            "_model_module": "@jupyter-widgets/controls",
            "_model_module_version": "1.5.0",
            "_model_name": "HTMLModel",
            "_view_count": null,
            "_view_module": "@jupyter-widgets/controls",
            "_view_module_version": "1.5.0",
            "_view_name": "HTMLView",
            "description": "",
            "description_tooltip": null,
            "layout": "IPY_MODEL_3f55bd5386fa4e9189d9b9b811695090",
            "placeholder": "​",
            "style": "IPY_MODEL_5ded9d37a4f3446d830edf9e7f142c8c",
            "value": "Batches: 100%"
          }
        },
        "fd3a5d754a634d44912349cc050f28ed": {
          "model_module": "@jupyter-widgets/base",
          "model_module_version": "1.2.0",
          "model_name": "LayoutModel",
          "state": {
            "_model_module": "@jupyter-widgets/base",
            "_model_module_version": "1.2.0",
            "_model_name": "LayoutModel",
            "_view_count": null,
            "_view_module": "@jupyter-widgets/base",
            "_view_module_version": "1.2.0",
            "_view_name": "LayoutView",
            "align_content": null,
            "align_items": null,
            "align_self": null,
            "border": null,
            "bottom": null,
            "display": null,
            "flex": null,
            "flex_flow": null,
            "grid_area": null,
            "grid_auto_columns": null,
            "grid_auto_flow": null,
            "grid_auto_rows": null,
            "grid_column": null,
            "grid_gap": null,
            "grid_row": null,
            "grid_template_areas": null,
            "grid_template_columns": null,
            "grid_template_rows": null,
            "height": null,
            "justify_content": null,
            "justify_items": null,
            "left": null,
            "margin": null,
            "max_height": null,
            "max_width": null,
            "min_height": null,
            "min_width": null,
            "object_fit": null,
            "object_position": null,
            "order": null,
            "overflow": null,
            "overflow_x": null,
            "overflow_y": null,
            "padding": null,
            "right": null,
            "top": null,
            "visibility": null,
            "width": null
          }
        }
      }
    }
  },
  "nbformat": 4,
  "nbformat_minor": 0
}
