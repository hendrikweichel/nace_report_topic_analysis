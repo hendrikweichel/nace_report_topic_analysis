{
 "cells": [
  {
   "cell_type": "code",
   "execution_count": null,
   "id": "e67d7390",
   "metadata": {},
   "outputs": [],
   "source": [
    "import numpy as np\n",
    "import pandas as pd\n",
    "import os\n",
    "import sys\n",
    "import glob\n",
    "import tqdm\n",
    "from typing import List\n",
    "\n",
    "sys.path.append(\"..\")\n",
    "from src import text_extraction, create_sentence_nace_code_similarities, analysis_functions\n",
    "import test_base"
   ]
  },
  {
   "cell_type": "markdown",
   "id": "27873843",
   "metadata": {},
   "source": [
    "## Test retrieving the similarities for chunks in a pdf to the NACE Code\n",
    "\n",
    "**Function:** pdf-> (chunk x code -> [-1,1])\n",
    "\n",
    "**Parameters:** \n",
    "\n",
    "- pdf_path\n",
    "- way of chunking the text (e.g. sentences, sliding window, or paragraphs)\n",
    "- way of preprocessing (most is fixed for all reports)\n",
    "    - similarity threshold of relevant chunks\n",
    "    - length of irrelevant chunks\n",
    "\n",
    "**Store analytics for each datapoint:**\n",
    "\n",
    "- mean score for each class given a threshold"
   ]
  },
  {
   "cell_type": "code",
   "execution_count": 2,
   "id": "de5feb87",
   "metadata": {},
   "outputs": [],
   "source": [
    "# Parameters: \n",
    "\n",
    "threshold_min_chunk_len = 10\n",
    "cos_threshold = 0.4\n",
    "\n",
    "sliding_window_len = 2\n",
    "\n",
    "result_path = f\"../results/sliding_window_{sliding_window_len}_min_chunk_len_{threshold_min_chunk_len}_cos_thresh_{cos_threshold}_german_reports\""
   ]
  },
  {
   "cell_type": "code",
   "execution_count": 3,
   "id": "4281c298",
   "metadata": {},
   "outputs": [],
   "source": [
    "dataset_path = \"../data/german_annual_reports\""
   ]
  },
  {
   "cell_type": "code",
   "execution_count": 4,
   "id": "bc056371",
   "metadata": {},
   "outputs": [],
   "source": [
    "nace_classes = pd.read_csv(os.path.join(dataset_path, \"data.csv\"))\n",
    "report_to_nace_class = nace_classes.set_index('report').to_dict()[\" NACE\"]"
   ]
  },
  {
   "cell_type": "code",
   "execution_count": 5,
   "id": "5a3b926e",
   "metadata": {},
   "outputs": [],
   "source": [
    "reports_path = glob.glob(os.path.join(dataset_path, \"*.pdf\"))"
   ]
  },
  {
   "cell_type": "code",
   "execution_count": 6,
   "id": "f50a1497",
   "metadata": {},
   "outputs": [],
   "source": [
    "def preprocess_report(pdf_path: str) -> List[str]:\n",
    "    text = text_extraction.get_text_from_pdf(pdf_path)\n",
    "    text = text_extraction.preprocess_text(text)\n",
    "    chunks = text_extraction.get_sliding_window(text, sliding_window_len)\n",
    "    chunks = list(dict.fromkeys(chunks))\n",
    "    return chunks"
   ]
  },
  {
   "cell_type": "code",
   "execution_count": null,
   "id": "715fdf8b",
   "metadata": {},
   "outputs": [
    {
     "name": "stderr",
     "output_type": "stream",
     "text": [
      "  0%|          | 0/10 [00:00<?, ?it/s]"
     ]
    }
   ],
   "source": [
    "res = test_base.test_similarities(reports_path, preprocess_report, threshold_min_chunk_len, cos_threshold, report_to_nace_class, result_path)"
   ]
  },
  {
   "cell_type": "code",
   "execution_count": null,
   "id": "cd1deaac",
   "metadata": {},
   "outputs": [],
   "source": []
  }
 ],
 "metadata": {
  "kernelspec": {
   "display_name": "remedi",
   "language": "python",
   "name": "python3"
  },
  "language_info": {
   "codemirror_mode": {
    "name": "ipython",
    "version": 3
   },
   "file_extension": ".py",
   "mimetype": "text/x-python",
   "name": "python",
   "nbconvert_exporter": "python",
   "pygments_lexer": "ipython3",
   "version": "3.10.14"
  }
 },
 "nbformat": 4,
 "nbformat_minor": 5
}
