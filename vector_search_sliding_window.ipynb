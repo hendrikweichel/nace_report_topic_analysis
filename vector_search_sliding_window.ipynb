{
 "cells": [
  {
   "cell_type": "code",
   "execution_count": 1,
   "id": "70bd3a85",
   "metadata": {},
   "outputs": [],
   "source": [
    "import pandas as pd\n",
    "import os\n",
    "import glob\n",
    "from src import create_sentence_nace_code_similarities, text_extraction\n",
    "from tqdm import tqdm"
   ]
  },
  {
   "cell_type": "code",
   "execution_count": 2,
   "id": "38b13ba7",
   "metadata": {},
   "outputs": [
    {
     "data": {
      "text/plain": [
       "['annual_reports/Deutsche_Annual-Report-2023.pdf',\n",
       " 'annual_reports/bayer-annual-report-2023-2.pdf',\n",
       " 'annual_reports/adidas-ar23.pdf',\n",
       " 'annual_reports/mercedes-benz-annual-report-2023-incl-combined-management-report-mbg-ag-2.pdf',\n",
       " 'annual_reports/Siemens-Annual-Report-2023.pdf',\n",
       " 'annual_reports/thyssenkrupp-GB_2023-2024_EN_WEB.pdf',\n",
       " 'annual_reports/Zalando-SE_DE_241203_s.pdf',\n",
       " 'annual_reports/heidelberg-materials_2023.pdf',\n",
       " 'annual_reports/rheinmetall-ag_2023.pdf',\n",
       " 'annual_reports/conti_annual-report-2023-data.pdf']"
      ]
     },
     "execution_count": 2,
     "metadata": {},
     "output_type": "execute_result"
    }
   ],
   "source": [
    "pdf_paths = glob.glob(\"annual_reports/*.pdf\")\n",
    "pdf_paths"
   ]
  },
  {
   "cell_type": "code",
   "execution_count": 3,
   "id": "3ed26fbc",
   "metadata": {},
   "outputs": [],
   "source": [
    "name_folder =  \"paragraph_sliding_window_3_similarities/\""
   ]
  },
  {
   "cell_type": "code",
   "execution_count": 4,
   "id": "c6508ebd",
   "metadata": {},
   "outputs": [
    {
     "name": "stderr",
     "output_type": "stream",
     "text": [
      "  0%|          | 0/10 [00:00<?, ?it/s]"
     ]
    },
    {
     "name": "stderr",
     "output_type": "stream",
     "text": [
      "100%|██████████| 10/10 [18:40<00:00, 112.10s/it]\n"
     ]
    }
   ],
   "source": [
    "from tqdm import tqdm\n",
    "for pdf_path in tqdm(pdf_paths): \n",
    "    text = text_extraction.get_text_from_pdf(pdf_path)\n",
    "    text = text_extraction.preprocess_text(text)\n",
    "    chunks = text_extraction.get_sliding_window(text, 3) \n",
    "    df = create_sentence_nace_code_similarities.create_sentence_nace_code_similarities(chunks)\n",
    "    df.to_csv(os.path.join(name_folder, os.path.basename(pdf_path).split('.')[0]+ \".csv\"))"
   ]
  }
 ],
 "metadata": {
  "kernelspec": {
   "display_name": "remedi",
   "language": "python",
   "name": "python3"
  },
  "language_info": {
   "codemirror_mode": {
    "name": "ipython",
    "version": 3
   },
   "file_extension": ".py",
   "mimetype": "text/x-python",
   "name": "python",
   "nbconvert_exporter": "python",
   "pygments_lexer": "ipython3",
   "version": "3.10.14"
  }
 },
 "nbformat": 4,
 "nbformat_minor": 5
}
